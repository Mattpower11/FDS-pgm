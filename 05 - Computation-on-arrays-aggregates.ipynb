{
 "cells": [
  {
   "cell_type": "markdown",
   "metadata": {
    "id": "J4Xm8owZGVY1"
   },
   "source": [
    "# Aggregations: Min, Max, and Everything In Between"
   ]
  },
  {
   "cell_type": "markdown",
   "metadata": {
    "id": "RV90I3_aGVY_"
   },
   "source": [
    "Often when faced with a large amount of data, a first step is to compute summary statistics for the data in question.\n",
    "Perhaps the most common summary statistics are the mean and standard deviation, which allow you to summarize the \"typical\" values in a dataset, but other aggregates are useful as well (the sum, product, median, minimum and maximum, quantiles, etc.).\n",
    "\n",
    "NumPy has fast built-in aggregation functions for working on arrays; we'll discuss and demonstrate some of them here."
   ]
  },
  {
   "cell_type": "markdown",
   "metadata": {
    "id": "kaT2Go7SGVZE"
   },
   "source": [
    "## Summing the Values in an Array\n",
    "\n",
    "As a quick example, consider computing the sum of all values in an array.\n",
    "Python itself can do this using the built-in ``sum`` function:"
   ]
  },
  {
   "cell_type": "code",
   "execution_count": 1,
   "metadata": {
    "collapsed": false,
    "executionInfo": {
     "elapsed": 1069,
     "status": "ok",
     "timestamp": 1727971056863,
     "user": {
      "displayName": "matteo migliarini",
      "userId": "13409704682108753227"
     },
     "user_tz": -120
    },
    "id": "ZdlidOTKGVZH",
    "jupyter": {
     "outputs_hidden": false
    }
   },
   "outputs": [],
   "source": [
    "import numpy as np"
   ]
  },
  {
   "cell_type": "code",
   "execution_count": 4,
   "metadata": {
    "colab": {
     "base_uri": "https://localhost:8080/"
    },
    "collapsed": false,
    "executionInfo": {
     "elapsed": 20,
     "status": "ok",
     "timestamp": 1727971057607,
     "user": {
      "displayName": "matteo migliarini",
      "userId": "13409704682108753227"
     },
     "user_tz": -120
    },
    "id": "FDY_Tq3zGVZL",
    "jupyter": {
     "outputs_hidden": false
    },
    "outputId": "91dd55bb-5936-4957-f75d-f773ecb36241"
   },
   "outputs": [
    {
     "data": {
      "text/plain": [
       "45.353253299951156"
      ]
     },
     "execution_count": 4,
     "metadata": {},
     "output_type": "execute_result"
    }
   ],
   "source": [
    "L = np.random.random(100)\n",
    "sum(L)"
   ]
  },
  {
   "cell_type": "markdown",
   "metadata": {
    "id": "-TC1TTixGVZN"
   },
   "source": [
    "The syntax is quite similar to that of NumPy's ``sum`` function, and the result is the same in the simplest case:"
   ]
  },
  {
   "cell_type": "code",
   "execution_count": 5,
   "metadata": {
    "colab": {
     "base_uri": "https://localhost:8080/"
    },
    "collapsed": false,
    "executionInfo": {
     "elapsed": 763,
     "status": "ok",
     "timestamp": 1727971067025,
     "user": {
      "displayName": "matteo migliarini",
      "userId": "13409704682108753227"
     },
     "user_tz": -120
    },
    "id": "9Hrxw8SfGVZQ",
    "jupyter": {
     "outputs_hidden": false
    },
    "outputId": "34989bdc-1a34-48a7-dd29-86a937aabcd1"
   },
   "outputs": [
    {
     "data": {
      "text/plain": [
       "45.353253299951156"
      ]
     },
     "execution_count": 5,
     "metadata": {},
     "output_type": "execute_result"
    }
   ],
   "source": [
    "np.sum(L)"
   ]
  },
  {
   "cell_type": "markdown",
   "metadata": {
    "id": "oXDA4bKPGVZS"
   },
   "source": [
    "However, because it executes the operation in compiled code, NumPy's version of the operation is computed much more quickly:"
   ]
  },
  {
   "cell_type": "code",
   "execution_count": 6,
   "metadata": {
    "colab": {
     "base_uri": "https://localhost:8080/"
    },
    "collapsed": false,
    "executionInfo": {
     "elapsed": 6997,
     "status": "ok",
     "timestamp": 1727971081101,
     "user": {
      "displayName": "matteo migliarini",
      "userId": "13409704682108753227"
     },
     "user_tz": -120
    },
    "id": "IBa4MTGPGVZV",
    "jupyter": {
     "outputs_hidden": false
    },
    "outputId": "13e84aba-4500-4902-d7ca-c345c8500cea"
   },
   "outputs": [
    {
     "name": "stdout",
     "output_type": "stream",
     "text": [
      "40 ms ± 277 μs per loop (mean ± std. dev. of 7 runs, 10 loops each)\n",
      "145 μs ± 983 ns per loop (mean ± std. dev. of 7 runs, 10,000 loops each)\n"
     ]
    }
   ],
   "source": [
    "big_array = np.random.rand(1000000)\n",
    "%timeit sum(big_array)\n",
    "%timeit np.sum(big_array)"
   ]
  },
  {
   "cell_type": "markdown",
   "metadata": {
    "id": "FyuqUkJBGVZb"
   },
   "source": [
    "Be careful, though: the ``sum`` function and the ``np.sum`` function are not identical, which can sometimes lead to confusion!\n",
    "In particular, their optional arguments have different meanings, and ``np.sum`` is aware of multiple array dimensions, as we will see in the following section."
   ]
  },
  {
   "cell_type": "markdown",
   "metadata": {
    "id": "tUTy5XXBGVZc"
   },
   "source": [
    "## Minimum and Maximum\n",
    "\n",
    "Similarly, Python has built-in ``min`` and ``max`` functions, used to find the minimum value and maximum value of any given array:"
   ]
  },
  {
   "cell_type": "code",
   "execution_count": 8,
   "metadata": {
    "colab": {
     "base_uri": "https://localhost:8080/"
    },
    "collapsed": false,
    "executionInfo": {
     "elapsed": 1566,
     "status": "ok",
     "timestamp": 1727971108864,
     "user": {
      "displayName": "matteo migliarini",
      "userId": "13409704682108753227"
     },
     "user_tz": -120
    },
    "id": "sSeIgYB6GVZe",
    "jupyter": {
     "outputs_hidden": false
    },
    "outputId": "de7b5221-0aeb-4e0e-f9c1-4eea9907c2cd"
   },
   "outputs": [
    {
     "data": {
      "text/plain": [
       "(7.047707683005555e-07, 0.9999996179016887)"
      ]
     },
     "execution_count": 8,
     "metadata": {},
     "output_type": "execute_result"
    }
   ],
   "source": [
    "min(big_array), max(big_array)"
   ]
  },
  {
   "cell_type": "markdown",
   "metadata": {
    "id": "aTw5OPMfGVZg"
   },
   "source": [
    "NumPy's corresponding functions have similar syntax, and again operate much more quickly:"
   ]
  },
  {
   "cell_type": "code",
   "execution_count": 9,
   "metadata": {
    "colab": {
     "base_uri": "https://localhost:8080/"
    },
    "collapsed": false,
    "executionInfo": {
     "elapsed": 21,
     "status": "ok",
     "timestamp": 1727971109744,
     "user": {
      "displayName": "matteo migliarini",
      "userId": "13409704682108753227"
     },
     "user_tz": -120
    },
    "id": "CwZP5-DeGVZh",
    "jupyter": {
     "outputs_hidden": false
    },
    "outputId": "034ad993-4242-4538-c4a2-681525c0d8e5"
   },
   "outputs": [
    {
     "data": {
      "text/plain": [
       "(7.047707683005555e-07, 0.9999996179016887)"
      ]
     },
     "execution_count": 9,
     "metadata": {},
     "output_type": "execute_result"
    }
   ],
   "source": [
    "np.min(big_array), np.max(big_array)"
   ]
  },
  {
   "cell_type": "code",
   "execution_count": 10,
   "metadata": {
    "colab": {
     "base_uri": "https://localhost:8080/"
    },
    "collapsed": false,
    "executionInfo": {
     "elapsed": 9186,
     "status": "ok",
     "timestamp": 1727971141506,
     "user": {
      "displayName": "matteo migliarini",
      "userId": "13409704682108753227"
     },
     "user_tz": -120
    },
    "id": "k6PZFfRyGVZi",
    "jupyter": {
     "outputs_hidden": false
    },
    "outputId": "95f21861-c286-4b22-b98e-6205971b4fed"
   },
   "outputs": [
    {
     "name": "stdout",
     "output_type": "stream",
     "text": [
      "27.7 ms ± 495 μs per loop (mean ± std. dev. of 7 runs, 10 loops each)\n",
      "124 μs ± 5.67 μs per loop (mean ± std. dev. of 7 runs, 10,000 loops each)\n"
     ]
    }
   ],
   "source": [
    "%timeit min(big_array)\n",
    "%timeit np.min(big_array)"
   ]
  },
  {
   "cell_type": "markdown",
   "metadata": {
    "id": "BQDSzfJcGVZj"
   },
   "source": [
    "For ``min``, ``max``, ``sum``, and several other NumPy aggregates, a shorter syntax is to use methods of the array object itself:"
   ]
  },
  {
   "cell_type": "code",
   "execution_count": 11,
   "metadata": {
    "colab": {
     "base_uri": "https://localhost:8080/"
    },
    "collapsed": false,
    "executionInfo": {
     "elapsed": 801,
     "status": "ok",
     "timestamp": 1727971148245,
     "user": {
      "displayName": "matteo migliarini",
      "userId": "13409704682108753227"
     },
     "user_tz": -120
    },
    "id": "W4wWcTrZGVZk",
    "jupyter": {
     "outputs_hidden": false
    },
    "outputId": "8d73dc7b-dd8d-495d-8425-3c9739bbdf21"
   },
   "outputs": [
    {
     "name": "stdout",
     "output_type": "stream",
     "text": [
      "7.047707683005555e-07 0.9999996179016887 499614.3920685\n"
     ]
    }
   ],
   "source": [
    "print(big_array.min(), big_array.max(), big_array.sum())"
   ]
  },
  {
   "cell_type": "markdown",
   "metadata": {
    "id": "bQQslTepGVZm"
   },
   "source": [
    "Whenever possible, make sure that you are using the NumPy version of these aggregates when operating on NumPy arrays!"
   ]
  },
  {
   "cell_type": "markdown",
   "metadata": {
    "id": "eieevy1yGVZn"
   },
   "source": [
    "### Multi dimensional aggregates\n",
    "\n",
    "One common type of aggregation operation is an aggregate along a row or column.\n",
    "Say you have some data stored in a two-dimensional array:"
   ]
  },
  {
   "cell_type": "code",
   "execution_count": 13,
   "metadata": {
    "colab": {
     "base_uri": "https://localhost:8080/"
    },
    "collapsed": false,
    "executionInfo": {
     "elapsed": 1062,
     "status": "ok",
     "timestamp": 1727971201159,
     "user": {
      "displayName": "matteo migliarini",
      "userId": "13409704682108753227"
     },
     "user_tz": -120
    },
    "id": "c_-bhuZXGVZo",
    "jupyter": {
     "outputs_hidden": false
    },
    "outputId": "568709fc-bd64-4728-d94a-1b850319977a"
   },
   "outputs": [
    {
     "name": "stdout",
     "output_type": "stream",
     "text": [
      "[[0.15346586 0.33235341 0.25141714 0.58946165]\n",
      " [0.32392229 0.7217783  0.27105021 0.9463988 ]\n",
      " [0.87066423 0.49484397 0.06283053 0.05126848]]\n"
     ]
    }
   ],
   "source": [
    "M = np.random.random((3, 4))\n",
    "print(M)"
   ]
  },
  {
   "cell_type": "markdown",
   "metadata": {
    "id": "AssgmTcWGVZp"
   },
   "source": [
    "By default, each NumPy aggregation function will return the aggregate over the entire array:"
   ]
  },
  {
   "cell_type": "code",
   "execution_count": 16,
   "metadata": {
    "colab": {
     "base_uri": "https://localhost:8080/"
    },
    "collapsed": false,
    "executionInfo": {
     "elapsed": 12,
     "status": "ok",
     "timestamp": 1727971257999,
     "user": {
      "displayName": "matteo migliarini",
      "userId": "13409704682108753227"
     },
     "user_tz": -120
    },
    "id": "zbDdaFoNGVZq",
    "jupyter": {
     "outputs_hidden": false
    },
    "outputId": "e7db9312-8187-4468-dc08-962ac774158a"
   },
   "outputs": [
    {
     "data": {
      "text/plain": [
       "array([1.32669806, 2.2631496 , 1.47960721])"
      ]
     },
     "execution_count": 16,
     "metadata": {},
     "output_type": "execute_result"
    }
   ],
   "source": [
    "M.sum(axis=1)"
   ]
  },
  {
   "cell_type": "markdown",
   "metadata": {
    "id": "AZxgjYrZGVZs"
   },
   "source": [
    "Aggregation functions take an additional argument specifying the *axis* along which the aggregate is computed. For example, we can find the minimum value within each column by specifying ``axis=0``:"
   ]
  },
  {
   "cell_type": "code",
   "execution_count": 17,
   "metadata": {
    "colab": {
     "base_uri": "https://localhost:8080/"
    },
    "collapsed": false,
    "executionInfo": {
     "elapsed": 728,
     "status": "ok",
     "timestamp": 1727971216648,
     "user": {
      "displayName": "matteo migliarini",
      "userId": "13409704682108753227"
     },
     "user_tz": -120
    },
    "id": "hoYCcu3VGVZt",
    "jupyter": {
     "outputs_hidden": false
    },
    "outputId": "94f97fe3-d4c8-4ce9-ad50-d3a906e8f5bf"
   },
   "outputs": [
    {
     "data": {
      "text/plain": [
       "array([0.15346586, 0.33235341, 0.06283053, 0.05126848])"
      ]
     },
     "execution_count": 17,
     "metadata": {},
     "output_type": "execute_result"
    }
   ],
   "source": [
    "M.min(axis=0)"
   ]
  },
  {
   "cell_type": "markdown",
   "metadata": {
    "id": "FjgFGusXGVZv"
   },
   "source": [
    "The function returns four values, corresponding to the four columns of numbers.\n",
    "\n",
    "Similarly, we can find the maximum value within each row:"
   ]
  },
  {
   "cell_type": "code",
   "execution_count": 19,
   "metadata": {
    "colab": {
     "base_uri": "https://localhost:8080/"
    },
    "collapsed": false,
    "executionInfo": {
     "elapsed": 921,
     "status": "ok",
     "timestamp": 1727971300941,
     "user": {
      "displayName": "matteo migliarini",
      "userId": "13409704682108753227"
     },
     "user_tz": -120
    },
    "id": "3F6EvE2WGVZw",
    "jupyter": {
     "outputs_hidden": false
    },
    "outputId": "820e858f-ce68-4b01-bcda-a57b29f2feea"
   },
   "outputs": [
    {
     "data": {
      "text/plain": [
       "array([0.58946165, 0.9463988 , 0.87066423])"
      ]
     },
     "execution_count": 19,
     "metadata": {},
     "output_type": "execute_result"
    }
   ],
   "source": [
    "M.max(axis=1)"
   ]
  },
  {
   "cell_type": "markdown",
   "metadata": {
    "id": "yl1Xfm2xGVZx"
   },
   "source": [
    "The way the axis is specified here can be confusing to users coming from other languages.\n",
    "The ``axis`` keyword specifies the *dimension of the array that will be collapsed*, rather than the dimension that will be returned.\n",
    "So specifying ``axis=0`` means that the first axis will be collapsed: for two-dimensional arrays, this means that values within each column will be aggregated."
   ]
  },
  {
   "cell_type": "code",
   "execution_count": 23,
   "metadata": {
    "colab": {
     "base_uri": "https://localhost:8080/"
    },
    "executionInfo": {
     "elapsed": 733,
     "status": "ok",
     "timestamp": 1727971451072,
     "user": {
      "displayName": "matteo migliarini",
      "userId": "13409704682108753227"
     },
     "user_tz": -120
    },
    "id": "8IIucsfAHm6d",
    "outputId": "bc2d90a5-054a-4de2-9d52-d2f21d60f21e"
   },
   "outputs": [
    {
     "name": "stderr",
     "output_type": "stream",
     "text": [
      "/tmp/ipykernel_9533/4269478400.py:1: RuntimeWarning: divide by zero encountered in divide\n",
      "  a = np.ones((4,5)) / np.array([1,1,0,1,1])\n"
     ]
    },
    {
     "data": {
      "text/plain": [
       "inf"
      ]
     },
     "execution_count": 23,
     "metadata": {},
     "output_type": "execute_result"
    }
   ],
   "source": [
    "a = np.ones((4,5)) / np.array([1,1,0,1,1])\n",
    "np.nansum(a)"
   ]
  },
  {
   "cell_type": "markdown",
   "metadata": {
    "id": "COWYL5ztGVZx"
   },
   "source": [
    "### Other aggregation functions\n",
    "\n",
    "NumPy provides many other aggregation functions, but we won't discuss them in detail here.\n",
    "Additionally, most aggregates have a ``NaN``-safe counterpart that computes the result while ignoring missing values, which are marked by the special IEEE floating-point ``NaN`` value.\n",
    "Some of these ``NaN``-safe functions were not added until NumPy 1.8, so they will not be available in older NumPy versions.\n",
    "\n",
    "The following table provides a list of useful aggregation functions available in NumPy:\n",
    "\n",
    "|Function Name      |   NaN-safe Version  | Description                                   |\n",
    "|-------------------|---------------------|-----------------------------------------------|\n",
    "| ``np.sum``        | ``np.nansum``       | Compute sum of elements                       |\n",
    "| ``np.prod``       | ``np.nanprod``      | Compute product of elements                   |\n",
    "| ``np.mean``       | ``np.nanmean``      | Compute mean of elements                      |\n",
    "| ``np.std``        | ``np.nanstd``       | Compute standard deviation                    |\n",
    "| ``np.var``        | ``np.nanvar``       | Compute variance                              |\n",
    "| ``np.min``        | ``np.nanmin``       | Find minimum value                            |\n",
    "| ``np.max``        | ``np.nanmax``       | Find maximum value                            |\n",
    "| ``np.argmin``     | ``np.nanargmin``    | Find index of minimum value                   |\n",
    "| ``np.argmax``     | ``np.nanargmax``    | Find index of maximum value                   |\n",
    "| ``np.median``     | ``np.nanmedian``    | Compute median of elements                    |\n",
    "| ``np.percentile`` | ``np.nanpercentile``| Compute rank-based statistics of elements     |\n",
    "| ``np.any``        | N/A                 | Evaluate whether any elements are true        |\n",
    "| ``np.all``        | N/A                 | Evaluate whether all elements are true        |"
   ]
  },
  {
   "cell_type": "markdown",
   "metadata": {
    "id": "criaCsOAGVZy"
   },
   "source": [
    "## Example: What is the Average Height of US Presidents?"
   ]
  },
  {
   "cell_type": "markdown",
   "metadata": {
    "id": "zpfEf1e-GVZy"
   },
   "source": [
    "Aggregates available in NumPy can be extremely useful for summarizing a set of values.\n",
    "As a simple example, let's consider the heights of all US presidents.\n",
    "This data is available in the file *president_heights.csv*, which is a simple comma-separated list of labels and values:"
   ]
  },
  {
   "cell_type": "code",
   "execution_count": 18,
   "metadata": {
    "colab": {
     "base_uri": "https://localhost:8080/"
    },
    "collapsed": false,
    "executionInfo": {
     "elapsed": 806,
     "status": "ok",
     "timestamp": 1727971558319,
     "user": {
      "displayName": "matteo migliarini",
      "userId": "13409704682108753227"
     },
     "user_tz": -120
    },
    "id": "AOf_cyGkGVZz",
    "jupyter": {
     "outputs_hidden": false
    },
    "outputId": "dabafe65-e270-4123-9d75-4cd9f2fa9137"
   },
   "outputs": [
    {
     "name": "stdout",
     "output_type": "stream",
     "text": [
      "order,name,height(cm)\n",
      "1,George Washington,189\n",
      "2,John Adams,170\n",
      "3,Thomas Jefferson,189\n",
      "4,James Madison,163\n",
      "5,James Monroe,183\n"
     ]
    }
   ],
   "source": [
    "!head -6 data/president_heights.csv"
   ]
  },
  {
   "cell_type": "markdown",
   "metadata": {
    "id": "LGwtf0dnGVZ0"
   },
   "source": [
    "We'll use the Pandas package, which we'll explore more fully in next lectures, to read the file and extract this information (note that the heights are measured in centimeters)."
   ]
  },
  {
   "cell_type": "code",
   "execution_count": 26,
   "metadata": {
    "colab": {
     "base_uri": "https://localhost:8080/"
    },
    "collapsed": false,
    "executionInfo": {
     "elapsed": 1620,
     "status": "ok",
     "timestamp": 1727971582351,
     "user": {
      "displayName": "matteo migliarini",
      "userId": "13409704682108753227"
     },
     "user_tz": -120
    },
    "id": "aYLWoa4TGVZ2",
    "jupyter": {
     "outputs_hidden": false
    },
    "outputId": "5a2a7bcf-183d-46a3-d3a3-b024bee053f0"
   },
   "outputs": [
    {
     "name": "stdout",
     "output_type": "stream",
     "text": [
      "[189 170 189 163 183 171 185 168 173 183 173 173 175 178 183 193 178 173\n",
      " 174 183 183 168 170 178 182 180 183 178 182 188 175 179 183 193 182 183\n",
      " 177 185 188 188 182 185]\n"
     ]
    }
   ],
   "source": [
    "import pandas as pd\n",
    "data = pd.read_csv('data/president_heights.csv')\n",
    "heights = np.array(data['height(cm)'])\n",
    "print(heights)"
   ]
  },
  {
   "cell_type": "markdown",
   "metadata": {
    "id": "WnIw15AKGVZ2"
   },
   "source": [
    "Now that we have this data array, we can compute a variety of summary statistics:"
   ]
  },
  {
   "cell_type": "code",
   "execution_count": 20,
   "metadata": {
    "colab": {
     "base_uri": "https://localhost:8080/"
    },
    "collapsed": false,
    "executionInfo": {
     "elapsed": 651,
     "status": "ok",
     "timestamp": 1727971588014,
     "user": {
      "displayName": "matteo migliarini",
      "userId": "13409704682108753227"
     },
     "user_tz": -120
    },
    "id": "t0xmY7yAGVZ4",
    "jupyter": {
     "outputs_hidden": false
    },
    "outputId": "fb5db06d-73cd-4a9c-daa0-87041646a939"
   },
   "outputs": [
    {
     "name": "stdout",
     "output_type": "stream",
     "text": [
      "Mean height:        179.73809523809524\n",
      "Standard deviation: 6.931843442745892\n",
      "Minimum height:     163\n",
      "Maximum height:     193\n"
     ]
    }
   ],
   "source": [
    "print(\"Mean height:       \", heights.mean())\n",
    "print(\"Standard deviation:\", heights.std())\n",
    "print(\"Minimum height:    \", heights.min())\n",
    "print(\"Maximum height:    \", heights.max())"
   ]
  },
  {
   "cell_type": "markdown",
   "metadata": {
    "id": "BYxIWYYHGVZ4"
   },
   "source": [
    "Note that in each case, the aggregation operation reduced the entire array to a single summarizing value, which gives us information about the distribution of values.\n",
    "We may also wish to compute quantiles:"
   ]
  },
  {
   "cell_type": "code",
   "execution_count": 27,
   "metadata": {
    "collapsed": false,
    "id": "tolu5fhDGVZ5",
    "jupyter": {
     "outputs_hidden": false
    }
   },
   "outputs": [
    {
     "name": "stdout",
     "output_type": "stream",
     "text": [
      "25th percentile:    174.25\n",
      "Median:             182.0\n",
      "75th percentile:    183.0\n"
     ]
    }
   ],
   "source": [
    "print(\"25th percentile:   \", np.percentile(heights, 25))\n",
    "print(\"Median:            \", np.median(heights))\n",
    "print(\"75th percentile:   \", np.percentile(heights, 75))"
   ]
  },
  {
   "cell_type": "markdown",
   "metadata": {
    "id": "jAQmVY1xGVZ6"
   },
   "source": [
    "We see that the median height of US presidents is 182 cm, or just shy of six feet.\n",
    "\n",
    "Of course, sometimes it's more useful to see a visual representation of this data, which we can accomplish using tools in Matplotlib. For example, this code generates the following chart:"
   ]
  },
  {
   "cell_type": "code",
   "execution_count": 29,
   "metadata": {
    "collapsed": false,
    "executionInfo": {
     "elapsed": 2497,
     "status": "ok",
     "timestamp": 1727971643128,
     "user": {
      "displayName": "matteo migliarini",
      "userId": "13409704682108753227"
     },
     "user_tz": -120
    },
    "id": "fh9T2hg2GVZ7",
    "jupyter": {
     "outputs_hidden": false
    }
   },
   "outputs": [],
   "source": [
    "%matplotlib inline\n",
    "import matplotlib.pyplot as plt\n",
    "import seaborn; seaborn.set()  # set plot style"
   ]
  },
  {
   "cell_type": "code",
   "execution_count": 30,
   "metadata": {
    "colab": {
     "base_uri": "https://localhost:8080/",
     "height": 500
    },
    "collapsed": false,
    "executionInfo": {
     "elapsed": 828,
     "status": "ok",
     "timestamp": 1727971643941,
     "user": {
      "displayName": "matteo migliarini",
      "userId": "13409704682108753227"
     },
     "user_tz": -120
    },
    "id": "UvdxLR8iGVZ9",
    "jupyter": {
     "outputs_hidden": false
    },
    "outputId": "cd520a59-604d-49e8-e22a-f4e95c17350b"
   },
   "outputs": [
    {
     "data": {
      "image/png": "[encoded data removed]",
      "text/plain": [
       "<Figure size 640x480 with 1 Axes>"
      ]
     },
     "metadata": {},
     "output_type": "display_data"
    }
   ],
   "source": [
    "plt.hist(heights)\n",
    "plt.title('Height Distribution of US Presidents')\n",
    "plt.xlabel('height (cm)')\n",
    "plt.ylabel('number');"
   ]
  },
  {
   "cell_type": "markdown",
   "metadata": {
    "id": "L4WofcB0GVZ9"
   },
   "source": [
    "These aggregates are some of the fundamental pieces of exploratory data analysis that we'll explore in more depth later."
   ]
  },
  {
   "cell_type": "markdown",
   "metadata": {
    "id": "nEVhigRkGVZ-"
   },
   "source": [
    "Credits: Jake VanderPlas (Python Data Science Handbook)"
   ]
  }
 ],
 "metadata": {
  "anaconda-cloud": {},
  "colab": {
   "provenance": []
  },
  "kernelspec": {
   "display_name": "Python 3 (ipykernel)",
   "language": "python",
   "name": "python3"
  },
  "language_info": {
   "codemirror_mode": {
    "name": "ipython",
    "version": 3
   },
   "file_extension": ".py",
   "mimetype": "text/x-python",
   "name": "python",
   "nbconvert_exporter": "python",
   "pygments_lexer": "ipython3",
   "version": "3.12.4"
  }
 },
 "nbformat": 4,
 "nbformat_minor": 4
}
