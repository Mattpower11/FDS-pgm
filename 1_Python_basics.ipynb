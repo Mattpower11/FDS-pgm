{
 "cells": [
  {
   "cell_type": "markdown",
   "metadata": {
    "id": "hbg0id4qzf24"
   },
   "source": [
    "### Python Basics"
   ]
  },
  {
   "cell_type": "markdown",
   "metadata": {
    "id": "-G6YlchMzf28"
   },
   "source": [
    "### Printing, Variables, Arithmetic"
   ]
  },
  {
   "cell_type": "code",
   "execution_count": 3,
   "metadata": {
    "colab": {
     "base_uri": "https://localhost:8080/"
    },
    "executionInfo": {
     "elapsed": 358,
     "status": "ok",
     "timestamp": 1727362281917,
     "user": {
      "displayName": "Indro Spinelli",
      "userId": "15457229447345198397"
     },
     "user_tz": -120
    },
    "id": "vwG2f_v6zf28",
    "outputId": "3d8631e9-c132-4317-b2b3-31b9615def60"
   },
   "outputs": [
    {
     "name": "stdout",
     "output_type": "stream",
     "text": [
      "\n"
     ]
    }
   ],
   "source": [
    "# Print\n",
    "print()"
   ]
  },
  {
   "cell_type": "code",
   "execution_count": 2,
   "metadata": {
    "colab": {
     "base_uri": "https://localhost:8080/"
    },
    "executionInfo": {
     "elapsed": 274,
     "status": "ok",
     "timestamp": 1727362412669,
     "user": {
      "displayName": "Indro Spinelli",
      "userId": "15457229447345198397"
     },
     "user_tz": -120
    },
    "id": "p6nlpSIAzf2-",
    "outputId": "6c003c65-012b-4f45-ab71-c17841b14b4c"
   },
   "outputs": [
    {
     "name": "stdout",
     "output_type": "stream",
     "text": [
      "10\n"
     ]
    },
    {
     "ename": "NameError",
     "evalue": "name 'ciao' is not defined",
     "output_type": "error",
     "traceback": [
      "\u001b[0;31m---------------------------------------------------------------------------\u001b[0m",
      "\u001b[0;31mNameError\u001b[0m                                 Traceback (most recent call last)",
      "Cell \u001b[0;32mIn[2], line 5\u001b[0m\n\u001b[1;32m      3\u001b[0m \u001b[38;5;28mprint\u001b[39m(a)\n\u001b[1;32m      4\u001b[0m b \u001b[38;5;241m=\u001b[39m \u001b[38;5;241m5\u001b[39m\n\u001b[0;32m----> 5\u001b[0m \u001b[38;5;28mprint\u001b[39m(ciao)\n",
      "\u001b[0;31mNameError\u001b[0m: name 'ciao' is not defined"
     ]
    }
   ],
   "source": [
    "# Variables and assignment\n",
    "a = 10\n",
    "print(a)\n",
    "b = 5\n",
    "print(ciao)"
   ]
  },
  {
   "cell_type": "code",
   "execution_count": 4,
   "metadata": {
    "colab": {
     "base_uri": "https://localhost:8080/"
    },
    "executionInfo": {
     "elapsed": 285,
     "status": "ok",
     "timestamp": 1727362530409,
     "user": {
      "displayName": "Indro Spinelli",
      "userId": "15457229447345198397"
     },
     "user_tz": -120
    },
    "id": "LOLRBYqjzf2-",
    "outputId": "9a70dde8-bd3f-44aa-8708-a32c33630cb3"
   },
   "outputs": [
    {
     "name": "stdout",
     "output_type": "stream",
     "text": [
      "15\n",
      "-5\n",
      "50\n",
      "2.0\n"
     ]
    }
   ],
   "source": [
    "# Arithmetic\n",
    "# Note variable values persist from previous cell\n",
    "print(a + b)\n",
    "print(b - a)\n",
    "print(a * b)\n",
    "print(a / b)"
   ]
  },
  {
   "cell_type": "code",
   "execution_count": 5,
   "metadata": {
    "colab": {
     "base_uri": "https://localhost:8080/"
    },
    "executionInfo": {
     "elapsed": 4,
     "status": "ok",
     "timestamp": 1727362572418,
     "user": {
      "displayName": "Indro Spinelli",
      "userId": "15457229447345198397"
     },
     "user_tz": -120
    },
    "id": "bHMVKEVDzf2-",
    "outputId": "908ffd6c-3e56-4f42-f8b0-82264c5f527f"
   },
   "outputs": [
    {
     "name": "stdout",
     "output_type": "stream",
     "text": [
      "15\n"
     ]
    }
   ],
   "source": [
    "# Update\n",
    "a = a + b\n",
    "print(a)"
   ]
  },
  {
   "cell_type": "code",
   "execution_count": 7,
   "metadata": {
    "colab": {
     "base_uri": "https://localhost:8080/"
    },
    "executionInfo": {
     "elapsed": 344,
     "status": "ok",
     "timestamp": 1727362625176,
     "user": {
      "displayName": "Indro Spinelli",
      "userId": "15457229447345198397"
     },
     "user_tz": -120
    },
    "id": "HyHyz2ygzf2_",
    "outputId": "ecb3e0c6-f5a1-452d-fc62-fc88c34bcedf"
   },
   "outputs": [
    {
     "name": "stdout",
     "output_type": "stream",
     "text": [
      "375\n"
     ]
    }
   ],
   "source": [
    "# Increment\n",
    "a *= b\n",
    "print(a)"
   ]
  },
  {
   "cell_type": "code",
   "execution_count": 25,
   "metadata": {
    "colab": {
     "base_uri": "https://localhost:8080/"
    },
    "executionInfo": {
     "elapsed": 4,
     "status": "ok",
     "timestamp": 1727362836553,
     "user": {
      "displayName": "Indro Spinelli",
      "userId": "15457229447345198397"
     },
     "user_tz": -120
    },
    "id": "mL4nGh831kAC",
    "outputId": "e151593d-6795-4ceb-c9bd-720192ebf36f"
   },
   "outputs": [
    {
     "name": "stdout",
     "output_type": "stream",
     "text": [
      "5\n"
     ]
    }
   ],
   "source": [
    "c = 0 # Initialize c\n",
    "c += b\n",
    "print(c)"
   ]
  },
  {
   "cell_type": "markdown",
   "metadata": {
    "id": "BCHnj4T8zf2_"
   },
   "source": [
    "### Types"
   ]
  },
  {
   "cell_type": "code",
   "execution_count": 27,
   "metadata": {
    "colab": {
     "base_uri": "https://localhost:8080/"
    },
    "executionInfo": {
     "elapsed": 272,
     "status": "ok",
     "timestamp": 1727362941977,
     "user": {
      "displayName": "Indro Spinelli",
      "userId": "15457229447345198397"
     },
     "user_tz": -120
    },
    "id": "q6CViiiszf2_",
    "outputId": "dd522237-1d02-41ad-afa5-dfce1ffc97d6"
   },
   "outputs": [
    {
     "name": "stdout",
     "output_type": "stream",
     "text": [
      "<class 'int'>\n",
      "<class 'str'>\n",
      "<class 'float'>\n"
     ]
    }
   ],
   "source": [
    "# Dynamically-inferred types\n",
    "a = 10\n",
    "print(type(a))\n",
    "a = '10'\n",
    "print(type(a))\n",
    "a = 10.\n",
    "print(type(a))"
   ]
  },
  {
   "cell_type": "code",
   "execution_count": 29,
   "metadata": {
    "colab": {
     "base_uri": "https://localhost:8080/"
    },
    "executionInfo": {
     "elapsed": 245,
     "status": "ok",
     "timestamp": 1727362995106,
     "user": {
      "displayName": "Indro Spinelli",
      "userId": "15457229447345198397"
     },
     "user_tz": -120
    },
    "id": "THJXREd-zf3A",
    "outputId": "db1f3cc5-0cf0-4e17-afea-489e1942b7c6"
   },
   "outputs": [
    {
     "name": "stdout",
     "output_type": "stream",
     "text": [
      "55\n"
     ]
    }
   ],
   "source": [
    "# Type-checking\n",
    "a = 10\n",
    "b = '5'"
   ]
  },
  {
   "cell_type": "code",
   "execution_count": 31,
   "metadata": {
    "colab": {
     "base_uri": "https://localhost:8080/",
     "height": 180
    },
    "executionInfo": {
     "elapsed": 266,
     "status": "error",
     "timestamp": 1727363066364,
     "user": {
      "displayName": "Indro Spinelli",
      "userId": "15457229447345198397"
     },
     "user_tz": -120
    },
    "id": "6YREOgGnzf3A",
    "outputId": "caac6dc2-555d-4028-e3e4-e6bed4e35a86"
   },
   "outputs": [
    {
     "ename": "ValueError",
     "evalue": "invalid literal for int() with base 10: 'this is number 5'",
     "output_type": "error",
     "traceback": [
      "\u001b[0;31m---------------------------------------------------------------------------\u001b[0m",
      "\u001b[0;31mValueError\u001b[0m                                Traceback (most recent call last)",
      "\u001b[0;32m<ipython-input-31-ac74d4635b9a>\u001b[0m in \u001b[0;36m<cell line: 4>\u001b[0;34m()\u001b[0m\n\u001b[1;32m      2\u001b[0m \u001b[0ma\u001b[0m \u001b[0;34m=\u001b[0m \u001b[0;36m10\u001b[0m\u001b[0;34m\u001b[0m\u001b[0;34m\u001b[0m\u001b[0m\n\u001b[1;32m      3\u001b[0m \u001b[0mb\u001b[0m \u001b[0;34m=\u001b[0m \u001b[0;34m'this is number 5'\u001b[0m\u001b[0;34m\u001b[0m\u001b[0;34m\u001b[0m\u001b[0m\n\u001b[0;32m----> 4\u001b[0;31m \u001b[0mprint\u001b[0m\u001b[0;34m(\u001b[0m\u001b[0ma\u001b[0m \u001b[0;34m+\u001b[0m \u001b[0mint\u001b[0m\u001b[0;34m(\u001b[0m\u001b[0mb\u001b[0m\u001b[0;34m)\u001b[0m\u001b[0;34m)\u001b[0m\u001b[0;34m\u001b[0m\u001b[0;34m\u001b[0m\u001b[0m\n\u001b[0m",
      "\u001b[0;31mValueError\u001b[0m: invalid literal for int() with base 10: 'this is number 5'"
     ]
    }
   ],
   "source": [
    "# Manual type-conversion (string to int)\n",
    "a = 10\n",
    "b = 'this is number 5'\n",
    "print(a + int(b))"
   ]
  },
  {
   "cell_type": "code",
   "execution_count": 32,
   "metadata": {
    "colab": {
     "base_uri": "https://localhost:8080/"
    },
    "executionInfo": {
     "elapsed": 274,
     "status": "ok",
     "timestamp": 1727363079212,
     "user": {
      "displayName": "Indro Spinelli",
      "userId": "15457229447345198397"
     },
     "user_tz": -120
    },
    "id": "7JPfcMLezf3A",
    "outputId": "3c6c211f-ed6d-4304-cb5f-bb02a7a67f09"
   },
   "outputs": [
    {
     "name": "stdout",
     "output_type": "stream",
     "text": [
      "<class 'int'>\n",
      "15.0 <class 'float'>\n"
     ]
    }
   ],
   "source": [
    "# Automatic type-conversion (int to float)\n",
    "a = 10\n",
    "print(type(a))\n",
    "a += 5.0\n",
    "print(a, type(a))"
   ]
  },
  {
   "cell_type": "code",
   "execution_count": 38,
   "metadata": {
    "colab": {
     "base_uri": "https://localhost:8080/"
    },
    "executionInfo": {
     "elapsed": 239,
     "status": "ok",
     "timestamp": 1727363216642,
     "user": {
      "displayName": "Indro Spinelli",
      "userId": "15457229447345198397"
     },
     "user_tz": -120
    },
    "id": "hhyJXTFQzf3A",
    "outputId": "28077bc6-93df-4cb1-8efe-993db4aafd18"
   },
   "outputs": [
    {
     "name": "stdout",
     "output_type": "stream",
     "text": [
      "First string First string First string First string \n",
      "First string \n"
     ]
    }
   ],
   "source": [
    "# String \"arithmetic\" (actually concatenation)\n",
    "a = 'First string '\n",
    "b = 'Second string'\n",
    "print(a * 4)\n",
    "print(a)"
   ]
  },
  {
   "cell_type": "markdown",
   "metadata": {
    "id": "UY_eyD2Uzf3B"
   },
   "source": [
    "### Conditional (If) Statements"
   ]
  },
  {
   "cell_type": "code",
   "execution_count": 45,
   "metadata": {
    "colab": {
     "base_uri": "https://localhost:8080/"
    },
    "executionInfo": {
     "elapsed": 259,
     "status": "ok",
     "timestamp": 1727363561082,
     "user": {
      "displayName": "Indro Spinelli",
      "userId": "15457229447345198397"
     },
     "user_tz": -120
    },
    "id": "R6nekIrhzf3B",
    "outputId": "4d462a9e-81a2-4ff2-a623-520adcf4d01c"
   },
   "outputs": [
    {
     "name": "stdout",
     "output_type": "stream",
     "text": [
      "8 is greater than 5 but not greater than 10\n"
     ]
    }
   ],
   "source": [
    "# If statements\n",
    "# Unlike other languages, indentation is significant\n",
    "a = 8\n",
    "if a > 10:\n",
    "    print(a, 'is greater than 10')\n",
    "    if a >= 15:\n",
    "        print(a, 'is also at least 15')\n",
    "elif a > 5:\n",
    "    print(a, 'is greater than 5 but not greater than 10')\n",
    "else:\n",
    "    print('no condition matched')\n",
    "    print('so a is 5 or less')"
   ]
  },
  {
   "cell_type": "markdown",
   "metadata": {
    "id": "RK5gqXcYzf3B"
   },
   "source": [
    "### <font color = 'green'>Your Turn</font>"
   ]
  },
  {
   "cell_type": "code",
   "execution_count": 10,
   "metadata": {
    "id": "XH9ZwytWzf3B"
   },
   "outputs": [
    {
     "name": "stdout",
     "output_type": "stream",
     "text": [
      "289 is big\n"
     ]
    }
   ],
   "source": [
    "# Write a program that starts with a number assigned to variable a.\n",
    "# If the square of that number is 100 or greater,\n",
    "# print the squared value and 'is big'.\n",
    "# Otherwise if the square is 50 or greater,\n",
    "# print the squared value 'is medium'.\n",
    "# Otherwise just print 'too small to bother with'.\n",
    "# Note: To obtain a value squared, use a*a or a**2\n",
    "# Make sure to try different values for a\n",
    "\n",
    "a = 17 # Change this value to test different scenarios\n",
    "\n",
    "squared_a = a * a\n",
    "\n",
    "if squared_a >= 100:\n",
    "    print(str(squared_a) + ' is big')\n",
    "elif squared_a >= 50:\n",
    "    print(str(squared_a) + ' is medium')\n",
    "else:\n",
    "    print('too small to bother with')\n",
    "\n"
   ]
  },
  {
   "cell_type": "code",
   "execution_count": null,
   "metadata": {
    "id": "djwwLpx97LpL"
   },
   "outputs": [],
   "source": []
  },
  {
   "cell_type": "code",
   "execution_count": 46,
   "metadata": {
    "colab": {
     "base_uri": "https://localhost:8080/"
    },
    "executionInfo": {
     "elapsed": 267,
     "status": "ok",
     "timestamp": 1727364170943,
     "user": {
      "displayName": "Indro Spinelli",
      "userId": "15457229447345198397"
     },
     "user_tz": -120
    },
    "id": "l-J0LO5Nzf3B",
    "outputId": "798453b1-478d-47a0-8503-cda2e837871e"
   },
   "outputs": [
    {
     "name": "stdout",
     "output_type": "stream",
     "text": [
      "100 is big\n"
     ]
    }
   ],
   "source": [
    "# prompt: # Write a program that starts with a number assigned to variable a.\n",
    "# # If the square of that number is 100 or greater,\n",
    "# # print the squared value and 'is big'.\n",
    "# # Otherwise if the square is 50 or greater,\n",
    "# # print the squared value 'is medium'.\n",
    "# # Otherwise just print 'too small to bother with'.\n",
    "# # Note: To obtain a value squared, use a*a or a**2\n",
    "# # Make sure to try different values for a\n",
    "\n",
    "a = 10  # Change this value to test different scenarios\n",
    "\n",
    "squared_a = a * a\n",
    "\n",
    "if squared_a >= 100:\n",
    "  print(squared_a, 'is big')\n",
    "elif squared_a >= 50:\n",
    "  print(squared_a, 'is medium')\n",
    "else:\n",
    "  print('too small to bother with')\n"
   ]
  },
  {
   "cell_type": "markdown",
   "metadata": {
    "id": "wNWaNzhWzf3B"
   },
   "source": [
    "### Lists and For-Loops"
   ]
  },
  {
   "cell_type": "code",
   "execution_count": 19,
   "metadata": {
    "colab": {
     "base_uri": "https://localhost:8080/"
    },
    "executionInfo": {
     "elapsed": 261,
     "status": "ok",
     "timestamp": 1727364264537,
     "user": {
      "displayName": "Indro Spinelli",
      "userId": "15457229447345198397"
     },
     "user_tz": -120
    },
    "id": "p3JAhqKTzf3B",
    "outputId": "ebfc514c-72f3-443a-c794-910af8f9c74c"
   },
   "outputs": [
    {
     "name": "stdout",
     "output_type": "stream",
     "text": [
      "[2, 4, 7, 9]\n",
      "<class 'list'>\n",
      "4\n"
     ]
    }
   ],
   "source": [
    "# List\n",
    "a = [2, 4, 7, 9]\n",
    "print(a)\n",
    "print(type(a))\n",
    "print(len(a))"
   ]
  },
  {
   "cell_type": "code",
   "execution_count": 49,
   "metadata": {
    "colab": {
     "base_uri": "https://localhost:8080/"
    },
    "executionInfo": {
     "elapsed": 392,
     "status": "ok",
     "timestamp": 1727364345968,
     "user": {
      "displayName": "Indro Spinelli",
      "userId": "15457229447345198397"
     },
     "user_tz": -120
    },
    "id": "vb-iDxSSzf3B",
    "outputId": "2e01116a-d7f2-4647-9a14-a49747511d2b"
   },
   "outputs": [
    {
     "name": "stdout",
     "output_type": "stream",
     "text": [
      "2 4\n",
      "4 8\n",
      "7 14\n",
      "9 18\n"
     ]
    }
   ],
   "source": [
    "# Iterate through a list\n",
    "for x in a:\n",
    "    print(x, 2 * x)"
   ]
  },
  {
   "cell_type": "code",
   "execution_count": 15,
   "metadata": {
    "colab": {
     "base_uri": "https://localhost:8080/"
    },
    "executionInfo": {
     "elapsed": 247,
     "status": "ok",
     "timestamp": 1727364432844,
     "user": {
      "displayName": "Indro Spinelli",
      "userId": "15457229447345198397"
     },
     "user_tz": -120
    },
    "id": "G8ISnyfwzf3B",
    "outputId": "bab7db6d-84d5-4c4b-d837-24108c6d4c08"
   },
   "outputs": [
    {
     "name": "stdout",
     "output_type": "stream",
     "text": [
      "4\n",
      "9\n"
     ]
    }
   ],
   "source": [
    "# Access element by index (starts at zero)\n",
    "print(a[1])\n",
    "print(a[3])\n",
    "# Try a[5]"
   ]
  },
  {
   "cell_type": "code",
   "execution_count": 52,
   "metadata": {
    "colab": {
     "base_uri": "https://localhost:8080/"
    },
    "executionInfo": {
     "elapsed": 269,
     "status": "ok",
     "timestamp": 1727364540538,
     "user": {
      "displayName": "Indro Spinelli",
      "userId": "15457229447345198397"
     },
     "user_tz": -120
    },
    "id": "rpTR8H2szf3C",
    "outputId": "4cb7b9a7-4c97-4e77-a1b5-f18235f93dff"
   },
   "outputs": [
    {
     "name": "stdout",
     "output_type": "stream",
     "text": [
      "[2, 4]\n",
      "[4, 7, 9]\n",
      "[4, 7]\n"
     ]
    }
   ],
   "source": [
    "# Prefix, suffix, and section of list\n",
    "print(a[:2])\n",
    "print(a[1:])\n",
    "print(a[1:3])"
   ]
  },
  {
   "cell_type": "code",
   "execution_count": 20,
   "metadata": {
    "colab": {
     "base_uri": "https://localhost:8080/"
    },
    "executionInfo": {
     "elapsed": 255,
     "status": "ok",
     "timestamp": 1727364821102,
     "user": {
      "displayName": "Indro Spinelli",
      "userId": "15457229447345198397"
     },
     "user_tz": -120
    },
    "id": "70PavMYnzf3C",
    "outputId": "3ed700f0-df3e-4abf-a977-d8c2ac81698d"
   },
   "outputs": [
    {
     "name": "stdout",
     "output_type": "stream",
     "text": [
      "[2, 4, 7, 9, 12, 14]\n"
     ]
    }
   ],
   "source": [
    "# Append to list\n",
    "a.append(12)\n",
    "a.append(14)\n",
    "print(a)"
   ]
  },
  {
   "cell_type": "code",
   "execution_count": 21,
   "metadata": {
    "colab": {
     "base_uri": "https://localhost:8080/"
    },
    "executionInfo": {
     "elapsed": 252,
     "status": "ok",
     "timestamp": 1727364880052,
     "user": {
      "displayName": "Indro Spinelli",
      "userId": "15457229447345198397"
     },
     "user_tz": -120
    },
    "id": "aZXerRYt96gL",
    "outputId": "937332db-4a78-4e65-cd19-5c73b140380f"
   },
   "outputs": [
    {
     "name": "stdout",
     "output_type": "stream",
     "text": [
      "[2, 4, 7, 9, 12, 14, 12]\n"
     ]
    }
   ],
   "source": [
    "a = a + [12]\n",
    "print(a)"
   ]
  },
  {
   "cell_type": "code",
   "execution_count": 22,
   "metadata": {
    "colab": {
     "base_uri": "https://localhost:8080/"
    },
    "executionInfo": {
     "elapsed": 251,
     "status": "ok",
     "timestamp": 1727364918296,
     "user": {
      "displayName": "Indro Spinelli",
      "userId": "15457229447345198397"
     },
     "user_tz": -120
    },
    "id": "A4i1tyV1zf3C",
    "outputId": "fb892f32-1921-467a-f8a5-8c8b11dca293"
   },
   "outputs": [
    {
     "name": "stdout",
     "output_type": "stream",
     "text": [
      "[2, 4, 7, 9, 12, 14, 12, 15, 20, 30]\n"
     ]
    }
   ],
   "source": [
    "# Combine two lists\n",
    "a = a + [15, 20, 30]\n",
    "print(a)\n",
    "a+=[12]"
   ]
  },
  {
   "cell_type": "code",
   "execution_count": 64,
   "metadata": {
    "colab": {
     "base_uri": "https://localhost:8080/"
    },
    "executionInfo": {
     "elapsed": 255,
     "status": "ok",
     "timestamp": 1727364998305,
     "user": {
      "displayName": "Indro Spinelli",
      "userId": "15457229447345198397"
     },
     "user_tz": -120
    },
    "id": "ma_INfdezf3C",
    "outputId": "b2494578-7e73-41f9-8f13-eecd31c2185d"
   },
   "outputs": [
    {
     "name": "stdout",
     "output_type": "stream",
     "text": [
      "[1, 'two', 3.0, [4, 5, 6]]\n",
      "<class 'list'>\n",
      "<class 'int'> <class 'str'> <class 'float'> <class 'list'>\n",
      "1 2\n",
      "two twotwo\n",
      "3.0 6.0\n",
      "[4, 5, 6] [4, 5, 6, 4, 5, 6]\n"
     ]
    }
   ],
   "source": [
    "# List elements can be of different types\n",
    "a = [1, 'two', 3.0, [4,5,6]]\n",
    "print(a)\n",
    "print(type(a))\n",
    "print(type(a[0]), type(a[1]), type(a[2]), type (a[3]))\n",
    "\n",
    "\n",
    "for x in a:\n",
    "    print(x, 2 * x)"
   ]
  },
  {
   "cell_type": "code",
   "execution_count": 24,
   "metadata": {
    "colab": {
     "base_uri": "https://localhost:8080/"
    },
    "executionInfo": {
     "elapsed": 318,
     "status": "ok",
     "timestamp": 1727365236788,
     "user": {
      "displayName": "Indro Spinelli",
      "userId": "15457229447345198397"
     },
     "user_tz": -120
    },
    "id": "jNALDaeR-2dr",
    "outputId": "7ece8ff3-7a00-4990-80f8-93db64ec9525"
   },
   "outputs": [
    {
     "name": "stdout",
     "output_type": "stream",
     "text": [
      "[3, 2, 1, 4, 0, 5, 0]\n"
     ]
    }
   ],
   "source": [
    "a = [3, 2, 1, 4, 0, 5, 0]\n",
    "\n",
    "print(a.)"
   ]
  },
  {
   "cell_type": "code",
   "execution_count": 69,
   "metadata": {
    "colab": {
     "base_uri": "https://localhost:8080/"
    },
    "executionInfo": {
     "elapsed": 257,
     "status": "ok",
     "timestamp": 1727365317139,
     "user": {
      "displayName": "Indro Spinelli",
      "userId": "15457229447345198397"
     },
     "user_tz": -120
    },
    "id": "G9zszq5szf3C",
    "outputId": "168fa0e0-b11b-4e5b-e3f0-27c360151b37"
   },
   "outputs": [
    {
     "name": "stdout",
     "output_type": "stream",
     "text": [
      "After sort:  [0, 1, 2, 3, 4, 5]\n",
      "After remove:  [0, 1, 3, 4, 5]\n",
      "After insert:  [0, 1, 'ciao', 3, 4, 5]\n",
      "After pop:  [0, 1, 'ciao', 3, 4]\n"
     ]
    }
   ],
   "source": [
    "#Try to <TAB> after Object. to see which operations are defined for it\n",
    "a = [3, 2, 1, 4, 0, 5]\n",
    "a.sort()\n",
    "print('After sort: ', a)\n",
    "a.remove(2)\n",
    "print('After remove: ', a)\n",
    "a.insert(2,\"ciao\")\n",
    "print('After insert: ', a)\n",
    "a.pop()\n",
    "print('After pop: ', a)"
   ]
  },
  {
   "cell_type": "markdown",
   "metadata": {
    "id": "WSpIT8iszf3C"
   },
   "source": [
    "### More on lists: slicing"
   ]
  },
  {
   "cell_type": "code",
   "execution_count": 25,
   "metadata": {
    "id": "RSlr4DDIzf3C"
   },
   "outputs": [
    {
     "name": "stdout",
     "output_type": "stream",
     "text": [
      "6\n",
      "[0, 1, 2, 3, 4, 5]\n"
     ]
    }
   ],
   "source": [
    "a=[0,1,2,3,4,5]\n",
    "print(len(a))\n",
    "print(a)"
   ]
  },
  {
   "cell_type": "code",
   "execution_count": 26,
   "metadata": {
    "id": "Mgw11N1Yzf3C"
   },
   "outputs": [
    {
     "name": "stdout",
     "output_type": "stream",
     "text": [
      "[0, 1, 2]\n"
     ]
    }
   ],
   "source": [
    "b=a[0:3] #list [start:stop)\n",
    "print(b)"
   ]
  },
  {
   "cell_type": "code",
   "execution_count": 27,
   "metadata": {
    "id": "GemRSFC7zf3C"
   },
   "outputs": [
    {
     "name": "stdout",
     "output_type": "stream",
     "text": [
      "[0, 2]\n"
     ]
    }
   ],
   "source": [
    "b=a[0:3:2] #list [ start index (included) : stop index (excluded) : step size ]\n",
    "print(b)"
   ]
  },
  {
   "cell_type": "code",
   "execution_count": 73,
   "metadata": {
    "colab": {
     "base_uri": "https://localhost:8080/"
    },
    "executionInfo": {
     "elapsed": 313,
     "status": "ok",
     "timestamp": 1727366121152,
     "user": {
      "displayName": "Indro Spinelli",
      "userId": "15457229447345198397"
     },
     "user_tz": -120
    },
    "id": "dmrwOhvRzf3C",
    "outputId": "4d23f89b-1267-4d2c-8107-b260934647b3"
   },
   "outputs": [
    {
     "name": "stdout",
     "output_type": "stream",
     "text": [
      "[0, 1, 'ciao', 3, 4]\n",
      "[0, 'ciao']\n",
      "this [0, 'ciao', 4]\n",
      "[0, 1, 'ciao']\n",
      "[0, 'ciao', 4]\n",
      "[0, 1, 'ciao', 3, 4]\n"
     ]
    }
   ],
   "source": [
    "print(a)\n",
    "#Omitting\n",
    "b=a[:3:2]\n",
    "print(b)\n",
    "b=a[::2]\n",
    "print(\"this\",b)\n",
    "b=a[0:3:]\n",
    "print(b)\n",
    "b=a[::2]\n",
    "print(b)\n",
    "b=a[::]\n",
    "print(b)"
   ]
  },
  {
   "cell_type": "code",
   "execution_count": 76,
   "metadata": {
    "colab": {
     "base_uri": "https://localhost:8080/",
     "height": 198
    },
    "executionInfo": {
     "elapsed": 323,
     "status": "error",
     "timestamp": 1727366195494,
     "user": {
      "displayName": "Indro Spinelli",
      "userId": "15457229447345198397"
     },
     "user_tz": -120
    },
    "id": "WTnFOiJIzf3C",
    "outputId": "6e76806a-c9db-4579-ccc2-804a9ec1c4a4"
   },
   "outputs": [
    {
     "ename": "TypeError",
     "evalue": "list indices must be integers or slices, not float",
     "output_type": "error",
     "traceback": [
      "\u001b[0;31m---------------------------------------------------------------------------\u001b[0m",
      "\u001b[0;31mTypeError\u001b[0m                                 Traceback (most recent call last)",
      "\u001b[0;32m<ipython-input-76-ab500077f141>\u001b[0m in \u001b[0;36m<cell line: 3>\u001b[0;34m()\u001b[0m\n\u001b[1;32m      1\u001b[0m \u001b[0mmidpoint\u001b[0m \u001b[0;34m=\u001b[0m \u001b[0mint\u001b[0m\u001b[0;34m(\u001b[0m\u001b[0mlen\u001b[0m\u001b[0;34m(\u001b[0m\u001b[0ma\u001b[0m\u001b[0;34m)\u001b[0m\u001b[0;34m/\u001b[0m\u001b[0;36m2\u001b[0m\u001b[0;34m)\u001b[0m \u001b[0;31m#NOTE: slicing requires integer indexes\u001b[0m\u001b[0;34m\u001b[0m\u001b[0;34m\u001b[0m\u001b[0m\n\u001b[1;32m      2\u001b[0m \u001b[0;34m\u001b[0m\u001b[0m\n\u001b[0;32m----> 3\u001b[0;31m \u001b[0mb\u001b[0m\u001b[0;34m=\u001b[0m\u001b[0ma\u001b[0m\u001b[0;34m[\u001b[0m\u001b[0;36m2.0\u001b[0m\u001b[0;34m]\u001b[0m\u001b[0;34m\u001b[0m\u001b[0;34m\u001b[0m\u001b[0m\n\u001b[0m\u001b[1;32m      4\u001b[0m \u001b[0mprint\u001b[0m\u001b[0;34m(\u001b[0m\u001b[0mb\u001b[0m\u001b[0;34m)\u001b[0m\u001b[0;34m\u001b[0m\u001b[0;34m\u001b[0m\u001b[0m\n",
      "\u001b[0;31mTypeError\u001b[0m: list indices must be integers or slices, not float"
     ]
    }
   ],
   "source": [
    "midpoint = int(len(a)/2) #NOTE: slicing requires integer indexes\n",
    "\n",
    "b=a[0:midpoint]\n",
    "print(b)"
   ]
  },
  {
   "cell_type": "code",
   "execution_count": 77,
   "metadata": {
    "colab": {
     "base_uri": "https://localhost:8080/"
    },
    "executionInfo": {
     "elapsed": 265,
     "status": "ok",
     "timestamp": 1727366240870,
     "user": {
      "displayName": "Indro Spinelli",
      "userId": "15457229447345198397"
     },
     "user_tz": -120
    },
    "id": "f0WZmhbSzf3D",
    "outputId": "9a9a7c7e-ab70-4fd7-8dba-cbe40f4a54e5"
   },
   "outputs": [
    {
     "name": "stdout",
     "output_type": "stream",
     "text": [
      "4\n",
      "3\n",
      "[4, 3, 'ciao', 1, 0]\n",
      "[4, 3]\n",
      "[4, 'ciao', 0]\n"
     ]
    }
   ],
   "source": [
    "#Using negative indexes\n",
    "b=a[-1] #Last element of a\n",
    "print(b)\n",
    "b=a[-2] #second-last element of a\n",
    "print(b)\n",
    "b=a[::-1] #list in reverse order\n",
    "print(b)\n",
    "b=a[5:2:-1] #As before, the start index is included, the stop index is excluded\n",
    "print(b)\n",
    "b=a[::-2] #even positions of the reverse-ordered list\n",
    "print(b)"
   ]
  },
  {
   "cell_type": "markdown",
   "metadata": {
    "id": "oJmh_9cDzf3D"
   },
   "source": [
    "### List Comprehension"
   ]
  },
  {
   "cell_type": "markdown",
   "metadata": {
    "id": "Od_BBzMTzf3D"
   },
   "source": [
    "List comprehension generally offers a shorter syntax when you want to create a new list based on the values of an existing list.\n",
    "\n",
    "The general sintax:\n",
    "newlist = [expression for item in iterable if condition == True]\n",
    "The condition is like a filter that only accepts the items that valuate to True.\n",
    "The iterable can be any iterable object, like a list, tuple, set etc."
   ]
  },
  {
   "cell_type": "code",
   "execution_count": 78,
   "metadata": {
    "colab": {
     "base_uri": "https://localhost:8080/"
    },
    "executionInfo": {
     "elapsed": 292,
     "status": "ok",
     "timestamp": 1727366385902,
     "user": {
      "displayName": "Indro Spinelli",
      "userId": "15457229447345198397"
     },
     "user_tz": -120
    },
    "id": "uBk9qIbBzf3D",
    "outputId": "2d7e8c7e-63d8-401c-9854-23878a3e40c0"
   },
   "outputs": [
    {
     "name": "stdout",
     "output_type": "stream",
     "text": [
      "['apple', 'banana', 'mango']\n"
     ]
    }
   ],
   "source": [
    "fruits = [\"apple\", \"banana\", \"cherry\", \"kiwi\", \"mango\"]\n",
    "\n",
    "newlist = []\n",
    "for x in fruits:\n",
    "  if \"a\" in x:\n",
    "    newlist.append(x)\n",
    "\n",
    "print(newlist)"
   ]
  },
  {
   "cell_type": "code",
   "execution_count": 79,
   "metadata": {
    "colab": {
     "base_uri": "https://localhost:8080/"
    },
    "executionInfo": {
     "elapsed": 272,
     "status": "ok",
     "timestamp": 1727366466615,
     "user": {
      "displayName": "Indro Spinelli",
      "userId": "15457229447345198397"
     },
     "user_tz": -120
    },
    "id": "CeMoz8_uzf3D",
    "outputId": "153e5e7a-4f51-42fd-ed99-c58c0ed2a762"
   },
   "outputs": [
    {
     "name": "stdout",
     "output_type": "stream",
     "text": [
      "['apple', 'banana', 'mango']\n"
     ]
    }
   ],
   "source": [
    "fruits = [\"apple\", \"banana\", \"cherry\", \"kiwi\", \"mango\"]\n",
    "\n",
    "newlist = [x for x in fruits if \"a\" in x]\n",
    "\n",
    "print(newlist)"
   ]
  },
  {
   "cell_type": "code",
   "execution_count": 83,
   "metadata": {
    "colab": {
     "base_uri": "https://localhost:8080/"
    },
    "executionInfo": {
     "elapsed": 247,
     "status": "ok",
     "timestamp": 1727366543100,
     "user": {
      "displayName": "Indro Spinelli",
      "userId": "15457229447345198397"
     },
     "user_tz": -120
    },
    "id": "qYGH3m7Azf3D",
    "outputId": "d793d248-f071-4767-bafb-aad81d7774a7"
   },
   "outputs": [
    {
     "name": "stdout",
     "output_type": "stream",
     "text": [
      "[0, 1, 2, 3, 4, 5, 6, 7, 8, 9]\n",
      "[0, 1, 2, 3, 4, 5, 6, 7, 8, 9]\n"
     ]
    }
   ],
   "source": [
    "numbers=[]\n",
    "for i in range(10):\n",
    "    numbers.append(i)\n",
    "print(numbers)\n",
    "\n",
    "numbers = [i for i in range(10)]\n",
    "print(numbers)"
   ]
  },
  {
   "cell_type": "code",
   "execution_count": 82,
   "metadata": {
    "colab": {
     "base_uri": "https://localhost:8080/"
    },
    "executionInfo": {
     "elapsed": 3,
     "status": "ok",
     "timestamp": 1727366514934,
     "user": {
      "displayName": "Indro Spinelli",
      "userId": "15457229447345198397"
     },
     "user_tz": -120
    },
    "id": "S6brybSQEOQ6",
    "outputId": "7c7866aa-7e7e-46c2-a1da-8bd59e43c7e4"
   },
   "outputs": [
    {
     "name": "stdout",
     "output_type": "stream",
     "text": [
      "<class 'range'>\n"
     ]
    }
   ],
   "source": [
    "print(type(range(10)))"
   ]
  },
  {
   "cell_type": "code",
   "execution_count": 89,
   "metadata": {
    "colab": {
     "base_uri": "https://localhost:8080/"
    },
    "executionInfo": {
     "elapsed": 253,
     "status": "ok",
     "timestamp": 1727366812606,
     "user": {
      "displayName": "Indro Spinelli",
      "userId": "15457229447345198397"
     },
     "user_tz": -120
    },
    "id": "1NDWI8UTzf3E",
    "outputId": "4706a263-af4f-40d1-d85c-d6255c30a1f5"
   },
   "outputs": [
    {
     "name": "stdout",
     "output_type": "stream",
     "text": [
      "['APPLE', 'BANANA', 'CHERRY', 'KIWI', 'MANGO']\n",
      "True\n"
     ]
    }
   ],
   "source": [
    "fruits = [\"apple\", \"banana\", \"cherry\", \"kiwi\", \"mango\"]\n",
    "newlist = [x.upper() for x in fruits]\n",
    "print(newlist)\n",
    "h = [x.lower() for x in newlist]\n",
    "print(h == h)"
   ]
  },
  {
   "cell_type": "code",
   "execution_count": null,
   "metadata": {
    "id": "xTnxnGRzzf3E"
   },
   "outputs": [],
   "source": [
    "newlist = ['hello' for x in fruits]\n",
    "print(newlist)"
   ]
  },
  {
   "cell_type": "markdown",
   "metadata": {
    "id": "atUXdnvVzf3E"
   },
   "source": [
    "### <font color = 'green'>Your Turn</font>"
   ]
  },
  {
   "cell_type": "code",
   "execution_count": 30,
   "metadata": {
    "id": "lJ2i-nZ1zf3E"
   },
   "outputs": [
    {
     "name": "stdout",
     "output_type": "stream",
     "text": [
      "[0, 2, 4, 6, 8, 10, 12, 14, 16, 18, 20, 22, 24, 26, 28, 30, 32, 34, 36, 38, 40, 42, 44, 46, 48, 50, 52, 54, 56, 58, 60, 62, 64, 66, 68, 70, 72, 74, 76, 78, 80, 82, 84, 86, 88, 90, 92, 94, 96, 98]\n"
     ]
    }
   ],
   "source": [
    "# Write a program that creates a list called \"numbers\"\n",
    "# which includes all even numbers from 0 to 100.\n",
    "# Use range(), list comprehension and leverage the operator %\n",
    "# which outputs the ramainder of the division, e.g. 78 % 5 = 3\n",
    "#\n",
    "numbers = [x for x in range(100) if x % 2 == 0]\n",
    "print(numbers)"
   ]
  },
  {
   "cell_type": "code",
   "execution_count": 94,
   "metadata": {
    "colab": {
     "base_uri": "https://localhost:8080/"
    },
    "executionInfo": {
     "elapsed": 247,
     "status": "ok",
     "timestamp": 1727367519320,
     "user": {
      "displayName": "Indro Spinelli",
      "userId": "15457229447345198397"
     },
     "user_tz": -120
    },
    "id": "qaXZt3w3zf3E",
    "outputId": "13e5a16d-07f8-420b-f21b-38a3b194164f"
   },
   "outputs": [
    {
     "name": "stdout",
     "output_type": "stream",
     "text": [
      "[0, 2, 4, 6, 8, 10, 12, 14, 16, 18, 20, 22, 24, 26, 28, 30, 32, 34, 36, 38, 40, 42, 44, 46, 48, 50, 52, 54, 56, 58, 60, 62, 64, 66, 68, 70, 72, 74, 76, 78, 80, 82, 84, 86, 88, 90, 92, 94, 96, 98, 100]\n"
     ]
    }
   ],
   "source": [
    "# prompt: # Write a program that creates a list called \"numbers\"\n",
    "# # which includes all even numbers from 0 to 100.\n",
    "# # Use range(), list comprehension and leverage the operator %\n",
    "# # which outputs the ramainder of the division, e.g. 78 % 5 = 3\n",
    "\n",
    "numbers = list(range(0,101,2))\n",
    "print(numbers)"
   ]
  },
  {
   "cell_type": "markdown",
   "metadata": {
    "id": "VAeG_v8ezf3E"
   },
   "source": [
    "### Python zip()"
   ]
  },
  {
   "cell_type": "markdown",
   "metadata": {
    "id": "vU5ZEwpMzf3E"
   },
   "source": [
    "The zip() function takes iterables (can be zero or more), aggregates them into a tuple, and returns an iterator of the tuple:\n",
    "- If we do not pass any parameter, zip() returns an empty iterator;\n",
    "- If a single iterable is passed, zip() returns an iterator of tuples with each tuple having only one element;\n",
    "- If multiple iterables are passed, zip() returns an iterator of tuples with each tuple having elements from all the iterables.\n",
    "\n",
    "Suppose, two iterables are passed to zip(); one iterable containing three and other containing five elements. Then, the returned iterator will contain three tuples. It's because iterator stops when the shortest iterable is exhausted."
   ]
  },
  {
   "cell_type": "code",
   "execution_count": 95,
   "metadata": {
    "colab": {
     "base_uri": "https://localhost:8080/"
    },
    "executionInfo": {
     "elapsed": 268,
     "status": "ok",
     "timestamp": 1727367571966,
     "user": {
      "displayName": "Indro Spinelli",
      "userId": "15457229447345198397"
     },
     "user_tz": -120
    },
    "id": "nK1P7b9kzf3E",
    "outputId": "042b452f-328e-4632-e6ee-06ec35d2be62"
   },
   "outputs": [
    {
     "name": "stdout",
     "output_type": "stream",
     "text": [
      "[]\n"
     ]
    }
   ],
   "source": [
    "#Empty iterator when no parameter is passed\n",
    "result = zip()\n",
    "\n",
    "# Converting iterator to list\n",
    "result_list = list(result)\n",
    "print(result_list)"
   ]
  },
  {
   "cell_type": "code",
   "execution_count": 96,
   "metadata": {
    "colab": {
     "base_uri": "https://localhost:8080/"
    },
    "executionInfo": {
     "elapsed": 280,
     "status": "ok",
     "timestamp": 1727367579339,
     "user": {
      "displayName": "Indro Spinelli",
      "userId": "15457229447345198397"
     },
     "user_tz": -120
    },
    "id": "sknzxmsHzf3E",
    "outputId": "c5b5f759-593d-4eb3-f29c-e5dafb4752bb"
   },
   "outputs": [
    {
     "name": "stdout",
     "output_type": "stream",
     "text": [
      "1 one\n",
      "2 two\n",
      "3 three\n"
     ]
    }
   ],
   "source": [
    "#Iterating over two lists without zip()\n",
    "list1 = [1, 2, 3]\n",
    "list2 = ['one', 'two', 'three', 'four', 'five']\n",
    "\n",
    "for i in range(len(list1)):\n",
    "    print(list1[i], list2[i])"
   ]
  },
  {
   "cell_type": "code",
   "execution_count": 97,
   "metadata": {
    "colab": {
     "base_uri": "https://localhost:8080/"
    },
    "executionInfo": {
     "elapsed": 303,
     "status": "ok",
     "timestamp": 1727367641727,
     "user": {
      "displayName": "Indro Spinelli",
      "userId": "15457229447345198397"
     },
     "user_tz": -120
    },
    "id": "ErfsFZlhzf3E",
    "outputId": "1fc2cdcf-99f5-4084-8866-abd5fb118c69"
   },
   "outputs": [
    {
     "name": "stdout",
     "output_type": "stream",
     "text": [
      "(1, 'one')\n",
      "(2, 'two')\n",
      "(3, 'three')\n"
     ]
    }
   ],
   "source": [
    "#Iterating over two lists with zip()\n",
    "list1 = [1, 2, 3]\n",
    "list2 = ['one', 'two', 'three', 'four', 'five']\n",
    "\n",
    "for paired_elems in zip(list1,list2):\n",
    "    print(paired_elems)"
   ]
  },
  {
   "cell_type": "code",
   "execution_count": 98,
   "metadata": {
    "colab": {
     "base_uri": "https://localhost:8080/"
    },
    "executionInfo": {
     "elapsed": 265,
     "status": "ok",
     "timestamp": 1727367715183,
     "user": {
      "displayName": "Indro Spinelli",
      "userId": "15457229447345198397"
     },
     "user_tz": -120
    },
    "id": "zZ8uENryzf3F",
    "outputId": "27ae8203-c033-41ee-f598-82b79c29da82"
   },
   "outputs": [
    {
     "name": "stdout",
     "output_type": "stream",
     "text": [
      "[(1, 'one'), (2, 'two'), (3, 'three')]\n",
      "[(1, 'one'), (2, 'two'), (3, 'three')]\n"
     ]
    }
   ],
   "source": [
    "#Iterating over two lists to create a list of pairs from the original lists (zipped list)\n",
    "list1 = [1, 2, 3]\n",
    "list2 = ['one', 'two', 'three', 'four', 'five']\n",
    "\n",
    "#Without zip()\n",
    "result_list=[]\n",
    "for i in range(len(list1)):\n",
    "    result_list.append((list1[i], list2[i])) #Create a list of tuples\n",
    "print(result_list)\n",
    "\n",
    "#With zip()\n",
    "result_list = list(zip(list1, list2)) #convert the (tuple) iterator into a list\n",
    "print(result_list)"
   ]
  },
  {
   "cell_type": "code",
   "execution_count": 99,
   "metadata": {
    "colab": {
     "base_uri": "https://localhost:8080/"
    },
    "executionInfo": {
     "elapsed": 277,
     "status": "ok",
     "timestamp": 1727367741135,
     "user": {
      "displayName": "Indro Spinelli",
      "userId": "15457229447345198397"
     },
     "user_tz": -120
    },
    "id": "D1ND7xrxzf3F",
    "outputId": "9bbcf75d-86ca-4698-e9b1-f616ed54409b"
   },
   "outputs": [
    {
     "name": "stdout",
     "output_type": "stream",
     "text": [
      "{(3, 'three'), (1, 'one'), (2, 'two')}\n"
     ]
    }
   ],
   "source": [
    "#Another plausible conversion of zip() iterators\n",
    "list1 = [1, 2, 3]\n",
    "list2 = ['one', 'two', 'three', 'four', 'five']\n",
    "\n",
    "# Convert iterator to set\n",
    "result_set = set(zip(list1, list2))\n",
    "print(result_set)\n",
    "# Sets are used to store multiple items in a single variable. Sets are mutable built-in data types\n",
    "# Other types which can store collection items are List, Tuple, and Dictionary\n",
    "# A set is unordered and unindexed."
   ]
  },
  {
   "cell_type": "code",
   "execution_count": 101,
   "metadata": {
    "colab": {
     "base_uri": "https://localhost:8080/"
    },
    "executionInfo": {
     "elapsed": 245,
     "status": "ok",
     "timestamp": 1727367826036,
     "user": {
      "displayName": "Indro Spinelli",
      "userId": "15457229447345198397"
     },
     "user_tz": -120
    },
    "id": "1IkjIC4azf3F",
    "outputId": "20fe8162-ada9-4e84-fb93-9fab50bcbe26"
   },
   "outputs": [
    {
     "name": "stdout",
     "output_type": "stream",
     "text": [
      "[(1, 'one', 'a'), (2, 'two', 'b'), (3, 'three', 'c')]\n",
      "(1, 2, 3)\n",
      "('one', 'two', 'three')\n",
      "('a', 'b', 'c')\n"
     ]
    }
   ],
   "source": [
    "#From zip() iterators to lists and back\n",
    "list1 = [1, 2, 3]\n",
    "list2 = ['one', 'two', 'three', 'four', 'five']\n",
    "list3 = ['a','b','c']\n",
    "\n",
    "#zip()\n",
    "result_list = list(zip(list1, list2, list3)) #convert the (tuple) iterator into a list\n",
    "print(result_list)\n",
    "\n",
    "#and unzip\n",
    "new_list1, new_list2, new_list3 = zip(*result_list)\n",
    "print(new_list1)\n",
    "print(new_list2)\n",
    "print(new_list3)\n",
    "#The unpacking operator * is used in conjunction with zip() to unzip the list"
   ]
  },
  {
   "cell_type": "markdown",
   "metadata": {
    "id": "hX4MrS7pzf3F"
   },
   "source": [
    "### Dictionaries (key-value mappings)"
   ]
  },
  {
   "cell_type": "code",
   "execution_count": 102,
   "metadata": {
    "colab": {
     "base_uri": "https://localhost:8080/"
    },
    "executionInfo": {
     "elapsed": 275,
     "status": "ok",
     "timestamp": 1727368043644,
     "user": {
      "displayName": "Indro Spinelli",
      "userId": "15457229447345198397"
     },
     "user_tz": -120
    },
    "id": "Q1RER7Fnzf3F",
    "outputId": "e7afefab-85c4-4c55-a0ce-5a1ec0b49d5c"
   },
   "outputs": [
    {
     "name": "stdout",
     "output_type": "stream",
     "text": [
      "{'name': 'Mary', 'age': 20, 'gender': 'F'}\n",
      "<class 'dict'>\n"
     ]
    }
   ],
   "source": [
    "# Dictionary\n",
    "a = {'name': 'Mary', 'age': 20, 'gender': 'F'}\n",
    "print(a)\n",
    "print(type(a))"
   ]
  },
  {
   "cell_type": "code",
   "execution_count": 105,
   "metadata": {
    "colab": {
     "base_uri": "https://localhost:8080/"
    },
    "executionInfo": {
     "elapsed": 268,
     "status": "ok",
     "timestamp": 1727368088216,
     "user": {
      "displayName": "Indro Spinelli",
      "userId": "15457229447345198397"
     },
     "user_tz": -120
    },
    "id": "0J8Ffew6zf3F",
    "outputId": "e5bc81e1-dae1-4aba-87ac-86aebc983b49"
   },
   "outputs": [
    {
     "name": "stdout",
     "output_type": "stream",
     "text": [
      "20\n"
     ]
    }
   ],
   "source": [
    "# Look up value of element by key - most important feature!\n",
    "print(a['age'])\n",
    "# also try a['gender'], a['salary']"
   ]
  },
  {
   "cell_type": "code",
   "execution_count": 107,
   "metadata": {
    "colab": {
     "base_uri": "https://localhost:8080/"
    },
    "executionInfo": {
     "elapsed": 337,
     "status": "ok",
     "timestamp": 1727368103676,
     "user": {
      "displayName": "Indro Spinelli",
      "userId": "15457229447345198397"
     },
     "user_tz": -120
    },
    "id": "9yQXj1yVzf3F",
    "outputId": "ca70b033-ac2c-47b7-d6f3-674cd5256a63"
   },
   "outputs": [
    {
     "name": "stdout",
     "output_type": "stream",
     "text": [
      "{'name': 'Mary', 'age': 21, 'gender': 'F'}\n"
     ]
    }
   ],
   "source": [
    "# Modify value\n",
    "a['age'] = 21\n",
    "print(a)"
   ]
  },
  {
   "cell_type": "code",
   "execution_count": 109,
   "metadata": {
    "colab": {
     "base_uri": "https://localhost:8080/"
    },
    "executionInfo": {
     "elapsed": 261,
     "status": "ok",
     "timestamp": 1727368135403,
     "user": {
      "displayName": "Indro Spinelli",
      "userId": "15457229447345198397"
     },
     "user_tz": -120
    },
    "id": "hpckoJ1Ozf3F",
    "outputId": "7e5030a2-36c9-4b80-e4b0-10b58e29579a"
   },
   "outputs": [
    {
     "name": "stdout",
     "output_type": "stream",
     "text": [
      "John is old\n",
      "Bill is young\n",
      "Susan is old\n"
     ]
    }
   ],
   "source": [
    "# Iterating through a list of dictionaries\n",
    "dlist = [{'name':'Mary', 'age':20}, {'name':'John', 'age':30},\n",
    "         {'name':'Bill', 'age':10}, {'name':'Susan', 'age':40}]\n",
    "for x in dlist:\n",
    "    if x['age'] >= 30:\n",
    "        print(x['name'], 'is old')\n",
    "    if x['age'] < 20:\n",
    "        print(x['name'], 'is young')"
   ]
  },
  {
   "cell_type": "code",
   "execution_count": 111,
   "metadata": {
    "colab": {
     "base_uri": "https://localhost:8080/"
    },
    "executionInfo": {
     "elapsed": 281,
     "status": "ok",
     "timestamp": 1727368169035,
     "user": {
      "displayName": "Indro Spinelli",
      "userId": "15457229447345198397"
     },
     "user_tz": -120
    },
    "id": "9VQlAgRRzf3F",
    "outputId": "1d9656d5-e10f-47f4-f021-c32498489bb2"
   },
   "outputs": [
    {
     "name": "stdout",
     "output_type": "stream",
     "text": [
      "{'name': 'Mary', 'age': 21, 'gender': 'F', 'salary': 100}\n"
     ]
    }
   ],
   "source": [
    "# Add new key-value pair\n",
    "a['salary'] = 100\n",
    "print(a)"
   ]
  },
  {
   "cell_type": "markdown",
   "metadata": {
    "id": "vWzsnLIZzf3F"
   },
   "source": [
    "### <font color = 'green'>Your Turn</font>"
   ]
  },
  {
   "cell_type": "code",
   "execution_count": 31,
   "metadata": {
    "id": "CVoVJUs-zf3G"
   },
   "outputs": [
    {
     "name": "stdout",
     "output_type": "stream",
     "text": [
      "red\n",
      "yellow\n"
     ]
    }
   ],
   "source": [
    "# Here is a dataset of four items, represented as a list of\n",
    "# dictionaries specifying each item's color and size\n",
    "items = [{'color':'red', 'size':10}, {'color':'blue', 'size':3},\n",
    "         {'color':'green', 'size':15}, {'color':'yellow', 'size':6}]\n",
    "# Write code that prints the color of all items whose size\n",
    "# is greater than threshold 'low' and less than threshold 'high'\n",
    "# Note: In Python, use 'and' to combine conditions\n",
    "low = 5\n",
    "high = 11\n",
    "\n",
    "for x in items:\n",
    "    if x['size'] >= low and x['size'] <= high:\n",
    "        print(x['color'])"
   ]
  },
  {
   "cell_type": "code",
   "execution_count": 32,
   "metadata": {
    "id": "ynGkja8ezf3G"
   },
   "outputs": [
    {
     "name": "stdout",
     "output_type": "stream",
     "text": [
      "red\n",
      "yellow\n"
     ]
    }
   ],
   "source": [
    "# prompt: # Here is a dataset of four items, represented as a list of\n",
    "# # dictionaries specifying each item's color and size\n",
    "# items = [{'color':'red', 'size':10}, {'color':'blue', 'size':3},\n",
    "#          {'color':'green', 'size':15}, {'color':'yellow', 'size':6}]\n",
    "# # Write code that prints the color of all items whose size\n",
    "# # is greater than threshold 'low' and less than threshold 'high'\n",
    "# # Note: In Python, use 'and'\n",
    "\n",
    "low = 5\n",
    "high = 11\n",
    "for item in items:\n",
    "  if item['size'] > low and item['size'] < high:\n",
    "    print(item['color'])\n"
   ]
  },
  {
   "cell_type": "markdown",
   "metadata": {
    "id": "zZXG3JrXzf3G"
   },
   "source": [
    "### Mutability"
   ]
  },
  {
   "cell_type": "markdown",
   "metadata": {
    "id": "A3IHkyT_zf3G"
   },
   "source": [
    "In Python, everything is treated as an object. Every object has these three attributes:\n",
    "- Identity: This refers to the address that the object refers to in the computer’s memory;\n",
    "- Type: This refers to the kind of object that is created, e.g. int, list, string etc.\n",
    "- Value: This refers to the value stored by the object, e.g. List=[1,2,3] would hold the numbers 1,2 and 3\n",
    "\n",
    "While ID and Type cannot be changed once it’s created, values can be changed for Mutable objects."
   ]
  },
  {
   "cell_type": "markdown",
   "metadata": {
    "id": "sJw7o_2xzf3G"
   },
   "source": [
    "Lists are mutable objects.\n",
    "\n",
    "Let's define a list, then update it, and see that it remains the same object"
   ]
  },
  {
   "cell_type": "code",
   "execution_count": 33,
   "metadata": {
    "id": "AwXUrlC-zf3G"
   },
   "outputs": [
    {
     "name": "stdout",
     "output_type": "stream",
     "text": [
      "Delhi Mumbai Kolkata 0x71914d1b9980\n",
      "Delhi Mumbai Kolkata Chennai 0x71914d1b9980\n"
     ]
    }
   ],
   "source": [
    "cities = ['Delhi', 'Mumbai', 'Kolkata']\n",
    "for city in cities:\n",
    "    print(city, end=' ')\n",
    "\n",
    "print(hex(id(cities)))\n",
    "\n",
    "cities.append('Chennai')\n",
    "for city in cities:\n",
    "    print(city, end=' ')\n",
    "\n",
    "print(hex(id(cities)))"
   ]
  },
  {
   "cell_type": "markdown",
   "metadata": {
    "id": "Xrw_Uzh-zf3G"
   },
   "source": [
    "Strings and tuples are immutable objects.\n",
    "\n",
    "See how the address in memory changes and how Python creates a new object in memory for the updated data type."
   ]
  },
  {
   "cell_type": "code",
   "execution_count": 34,
   "metadata": {
    "id": "iYwFxvLozf3G"
   },
   "outputs": [
    {
     "name": "stdout",
     "output_type": "stream",
     "text": [
      "('Sunday', 'Monday', 'Tuesday', 'Wednesday', 'Thursday', 'Friday', 'Saturday')\n",
      "0x71914d21dd20\n",
      "('Sunday', 'Monday', 'Tuesday', 'Wednesday', 'Thursday', 'Friday', 'Saturday', 'Pythonday')\n",
      "0x71914cde3060\n"
     ]
    }
   ],
   "source": [
    "#Example with a tuple\n",
    "weekdays = 'Sunday', 'Monday', 'Tuesday', 'Wednesday', 'Thursday', 'Friday', 'Saturday'\n",
    "print(weekdays)\n",
    "print(hex(id(weekdays)))\n",
    "\n",
    "weekdays  +=  'Pythonday',\n",
    "print(weekdays)\n",
    "print(hex(id(weekdays)))"
   ]
  },
  {
   "cell_type": "code",
   "execution_count": 35,
   "metadata": {
    "id": "wG_z90vTzf3G"
   },
   "outputs": [
    {
     "ename": "TypeError",
     "evalue": "'str' object does not support item assignment",
     "output_type": "error",
     "traceback": [
      "\u001b[0;31m---------------------------------------------------------------------------\u001b[0m",
      "\u001b[0;31mTypeError\u001b[0m                                 Traceback (most recent call last)",
      "Cell \u001b[0;32mIn[35], line 3\u001b[0m\n\u001b[1;32m      1\u001b[0m \u001b[38;5;66;03m#Example with a string\u001b[39;00m\n\u001b[1;32m      2\u001b[0m greeting \u001b[38;5;241m=\u001b[39m \u001b[38;5;124m'\u001b[39m\u001b[38;5;124mHello, world!\u001b[39m\u001b[38;5;124m'\u001b[39m\n\u001b[0;32m----> 3\u001b[0m greeting[\u001b[38;5;241m0\u001b[39m] \u001b[38;5;241m=\u001b[39m \u001b[38;5;124m'\u001b[39m\u001b[38;5;124mJ\u001b[39m\u001b[38;5;124m'\u001b[39m\n",
      "\u001b[0;31mTypeError\u001b[0m: 'str' object does not support item assignment"
     ]
    }
   ],
   "source": [
    "#Example with a string\n",
    "greeting = 'Hello, world!'\n",
    "greeting[0] = 'J'"
   ]
  },
  {
   "cell_type": "markdown",
   "metadata": {
    "id": "aPTkmAFlzf3G"
   },
   "source": [
    "Mutable objects can be used where you want to allow for any updates. For example, you have a list of employee names in your organizations, and that needs to be updated every time a new member is hired. You can create a mutable list, and it can be updated easily.\n",
    "\n",
    "Immutability offers a lot of useful applications to different sensitive tasks we do in a network centred environment where we allow for parallel processing. By creating immutable objects, you seal the values and ensure that no threads can invoke overwrite/update to your data. This is also useful in situations where you would like to write a piece of code that cannot be modified. For example, a debug code that attempts to find the value of an immutable object.\n",
    "\n",
    "Some mutable and immutable objects:\n",
    "- Mutable objects: list, dict, set, byte array\n",
    "- Immutable objects: int, float, complex, string, tuple, frozen set [note: immutable version of set], bytes"
   ]
  },
  {
   "cell_type": "markdown",
   "metadata": {
    "id": "_IX6FmE1zf3H"
   },
   "source": [
    "Now, how will it behave if you have an immutable object which contains the mutable object(s) or vice versa?"
   ]
  },
  {
   "cell_type": "code",
   "execution_count": 36,
   "metadata": {
    "id": "uy_Jrg04zf3H"
   },
   "outputs": [
    {
     "name": "stdout",
     "output_type": "stream",
     "text": [
      "(['Ayaan', 5, 'Male'], ['Aaradhya', 8, 'Female'])\n",
      "0x71914cea4540\n",
      "(['Ayaan', 4, 'Male'], ['Aaradhya', 8, 'Female'])\n",
      "0x71914cea4540\n"
     ]
    }
   ],
   "source": [
    "person = (['Ayaan', 5, 'Male'], ['Aaradhya', 8, 'Female']) #a tuple\n",
    "print(person)\n",
    "print(hex(id(person)))\n",
    "\n",
    "person[0][1] = 4 #Update the age of 'Ayaan'\n",
    "print(person)\n",
    "print(hex(id(person)))"
   ]
  },
  {
   "cell_type": "markdown",
   "metadata": {
    "id": "Mbyefda6zf3H"
   },
   "source": [
    "The object ‘person’ is immutable since it is a type of tuple. However, it has two lists as it’s elements, and we can change the state of lists (lists being mutable). So, here we did not change the object reference inside the Tuple, but the referenced object was mutated.\n",
    "\n",
    "The same happens for tuple of mutable and immutable objects, where only mutable objects can afterwards be altered, e.g. sample_tuple = (‘holberton’, [1, 2, 3])"
   ]
  },
  {
   "cell_type": "code",
   "execution_count": 37,
   "metadata": {
    "id": "iSP8jM2tzf3H"
   },
   "outputs": [
    {
     "name": "stdout",
     "output_type": "stream",
     "text": [
      "[(1, 2, 3), (4, 5, 6)]\n",
      "0x71914cea6680\n",
      "[(7, 8, 9), (4, 5, 6)]\n",
      "0x71914cea6680\n"
     ]
    }
   ],
   "source": [
    "#create a list (mutable object) which contains tuples (immutable) as its elements\n",
    "list1 = [(1, 2, 3), (4, 5, 6)]\n",
    "print(list1)\n",
    "print(hex(id(list1)))\n",
    "\n",
    "#update the object reference at index 0\n",
    "list1[0] = (7, 8, 9)\n",
    "print(list1)\n",
    "print(hex(id(list1)))"
   ]
  },
  {
   "cell_type": "markdown",
   "metadata": {
    "id": "xCbJTL8dzf3H"
   },
   "source": [
    "Let's delve a little bit more into it"
   ]
  },
  {
   "cell_type": "code",
   "execution_count": 38,
   "metadata": {
    "id": "9pXjqsvUzf3H"
   },
   "outputs": [
    {
     "name": "stdout",
     "output_type": "stream",
     "text": [
      "10\n",
      "0x951c48\n",
      "8\n",
      "0x951c08\n"
     ]
    }
   ],
   "source": [
    "z = 10\n",
    "print(z)\n",
    "print(hex(id(z)))\n",
    "\n",
    "z = 8\n",
    "print(z)\n",
    "print(hex(id(z)))"
   ]
  },
  {
   "cell_type": "code",
   "execution_count": 39,
   "metadata": {
    "id": "f-5TUe9Zzf3H"
   },
   "outputs": [
    {
     "name": "stdout",
     "output_type": "stream",
     "text": [
      "10\n",
      "0x951c48\n",
      "10\n",
      "0x951c48\n"
     ]
    }
   ],
   "source": [
    "x = 10\n",
    "print(x)\n",
    "print(hex(id(x)))\n",
    "\n",
    "y = 10\n",
    "print(y)\n",
    "print(hex(id(y)))"
   ]
  },
  {
   "cell_type": "markdown",
   "metadata": {
    "id": "FBjV7Lptzf3H"
   },
   "source": [
    "### Additional Features - Mostly Just FYI"
   ]
  },
  {
   "cell_type": "markdown",
   "metadata": {
    "id": "has3KxoGzf3H"
   },
   "source": [
    "#### User input"
   ]
  },
  {
   "cell_type": "code",
   "execution_count": 41,
   "metadata": {
    "id": "jQIOxfbSzf3H"
   },
   "outputs": [
    {
     "name": "stdin",
     "output_type": "stream",
     "text": [
      "Enter value 1:  2\n",
      "Enter value 2:  5\n"
     ]
    },
    {
     "name": "stdout",
     "output_type": "stream",
     "text": [
      "7\n"
     ]
    }
   ],
   "source": [
    "a = input('Enter value 1: ')\n",
    "b = input('Enter value 2: ')\n",
    "print(int(a) + int(b))\n",
    "# Fix to do integer addition"
   ]
  },
  {
   "cell_type": "markdown",
   "metadata": {
    "id": "lt8eRfKszf3I"
   },
   "source": [
    "#### While loops"
   ]
  },
  {
   "cell_type": "code",
   "execution_count": 43,
   "metadata": {
    "id": "xQHVvlWUzf3I"
   },
   "outputs": [
    {
     "name": "stdin",
     "output_type": "stream",
     "text": [
      "Enter any string, or \"quit\" to stop:  pspcl\n"
     ]
    },
    {
     "name": "stdout",
     "output_type": "stream",
     "text": [
      "pspcl\n"
     ]
    },
    {
     "name": "stdin",
     "output_type": "stream",
     "text": [
      "Enter any string, or \"quit\" to stop:  qdqa\n"
     ]
    },
    {
     "name": "stdout",
     "output_type": "stream",
     "text": [
      "qdqa\n"
     ]
    },
    {
     "name": "stdin",
     "output_type": "stream",
     "text": [
      "Enter any string, or \"quit\" to stop:  sbidiibi\n"
     ]
    },
    {
     "name": "stdout",
     "output_type": "stream",
     "text": [
      "sbidiibi\n"
     ]
    },
    {
     "name": "stdin",
     "output_type": "stream",
     "text": [
      "Enter any string, or \"quit\" to stop:  paparopo\n"
     ]
    },
    {
     "name": "stdout",
     "output_type": "stream",
     "text": [
      "paparopo\n"
     ]
    },
    {
     "name": "stdin",
     "output_type": "stream",
     "text": [
      "Enter any string, or \"quit\" to stop:  quit\n"
     ]
    },
    {
     "name": "stdout",
     "output_type": "stream",
     "text": [
      "Done\n"
     ]
    }
   ],
   "source": [
    "# Echo user input, 'quit' to end\n",
    "i = input('Enter any string, or \"quit\" to stop: ')\n",
    "while True:\n",
    "    print(i)\n",
    "    i = input('Enter any string, or \"quit\" to stop: ')\n",
    "    if i == 'quit':\n",
    "        break;\n",
    "print('Done')\n",
    "# Change to while True and break"
   ]
  },
  {
   "cell_type": "markdown",
   "metadata": {
    "id": "f38BKrRezf3I"
   },
   "source": [
    "#### Infinite while loop"
   ]
  },
  {
   "cell_type": "code",
   "execution_count": 45,
   "metadata": {
    "id": "anEL12BMzf3I"
   },
   "outputs": [
    {
     "name": "stdin",
     "output_type": "stream",
     "text": [
      "Enter any string, or \"quit\" to stop:  quit\n"
     ]
    },
    {
     "ename": "KeyboardInterrupt",
     "evalue": "",
     "output_type": "error",
     "traceback": [
      "\u001b[0;31m---------------------------------------------------------------------------\u001b[0m",
      "\u001b[0;31mKeyboardInterrupt\u001b[0m                         Traceback (most recent call last)",
      "Cell \u001b[0;32mIn[45], line 4\u001b[0m\n\u001b[1;32m      1\u001b[0m \u001b[38;5;66;03m# Try not 'quit' then try 'quit', kernel interrupt\u001b[39;00m\n\u001b[1;32m      2\u001b[0m \u001b[38;5;66;03m# hit 'i' twice for keyboard interrupt (see also https://ipython.org/ipython-doc/1/interactive/notebook.html#keyboard-shortcuts)\u001b[39;00m\n\u001b[1;32m      3\u001b[0m i \u001b[38;5;241m=\u001b[39m \u001b[38;5;28minput\u001b[39m(\u001b[38;5;124m'\u001b[39m\u001b[38;5;124mEnter any string, or \u001b[39m\u001b[38;5;124m\"\u001b[39m\u001b[38;5;124mquit\u001b[39m\u001b[38;5;124m\"\u001b[39m\u001b[38;5;124m to stop: \u001b[39m\u001b[38;5;124m'\u001b[39m)\n\u001b[0;32m----> 4\u001b[0m \u001b[38;5;28;01mwhile\u001b[39;00m \u001b[38;5;28;01mTrue\u001b[39;00m:\n\u001b[1;32m      5\u001b[0m     \u001b[38;5;28;01mif\u001b[39;00m i \u001b[38;5;241m!=\u001b[39m \u001b[38;5;124m'\u001b[39m\u001b[38;5;124mquit\u001b[39m\u001b[38;5;124m'\u001b[39m: \u001b[38;5;28mprint\u001b[39m(i)\n\u001b[1;32m      6\u001b[0m \u001b[38;5;28mprint\u001b[39m(\u001b[38;5;124m'\u001b[39m\u001b[38;5;124mDone\u001b[39m\u001b[38;5;124m'\u001b[39m)\n",
      "\u001b[0;31mKeyboardInterrupt\u001b[0m: "
     ]
    }
   ],
   "source": [
    "# Try not 'quit' then try 'quit', kernel interrupt\n",
    "# hit 'i' twice for keyboard interrupt (see also https://ipython.org/ipython-doc/1/interactive/notebook.html#keyboard-shortcuts)\n",
    "i = input('Enter any string, or \"quit\" to stop: ')\n",
    "while True:\n",
    "    if i != 'quit': print(i)\n",
    "print('Done')"
   ]
  },
  {
   "cell_type": "markdown",
   "metadata": {
    "id": "yHr4hld8zf3I"
   },
   "source": [
    "#### Functions"
   ]
  },
  {
   "cell_type": "code",
   "execution_count": 46,
   "metadata": {
    "id": "gz69BMzyzf3I"
   },
   "outputs": [],
   "source": [
    "# Create a function with no arguments or return value\n",
    "def simple():\n",
    "    print('This function has no arguments or return value')"
   ]
  },
  {
   "cell_type": "code",
   "execution_count": 47,
   "metadata": {
    "id": "FAQJmTchzf3I"
   },
   "outputs": [
    {
     "name": "stdout",
     "output_type": "stream",
     "text": [
      "This function has no arguments or return value\n",
      "This function has no arguments or return value\n",
      "This function has no arguments or return value\n",
      "This function has no arguments or return value\n",
      "This function has no arguments or return value\n"
     ]
    }
   ],
   "source": [
    "# Call the function five times\n",
    "for i in [1,2,3,4,5]:\n",
    "    simple()"
   ]
  },
  {
   "cell_type": "code",
   "execution_count": 48,
   "metadata": {
    "id": "YsNe_vTizf3I"
   },
   "outputs": [],
   "source": [
    "# Create a function with arguments and a return value\n",
    "def addthem(a, b):\n",
    "    return a + b"
   ]
  },
  {
   "cell_type": "code",
   "execution_count": 49,
   "metadata": {
    "id": "yDMa_Qc2zf3I"
   },
   "outputs": [
    {
     "name": "stdout",
     "output_type": "stream",
     "text": [
      "1 2 3\n",
      "2 3 5\n",
      "3 4 7\n",
      "4 5 9\n",
      "5 6 11\n"
     ]
    }
   ],
   "source": [
    "# Call the function five times\n",
    "for i in [1,2,3,4,5]:\n",
    "    print(i, i+1, addthem(i,i+1))"
   ]
  },
  {
   "cell_type": "code",
   "execution_count": null,
   "metadata": {
    "id": "Typc9dDLzf3I"
   },
   "outputs": [],
   "source": [
    "### Libraries"
   ]
  },
  {
   "cell_type": "markdown",
   "metadata": {
    "id": "4C6EtKKBzf3I"
   },
   "source": [
    "Python libraries are collections of related functionality of codes that allows you to perform many tasks without (re-)writing code. It's usable just by importing it and calling the method of that library with period(.)."
   ]
  },
  {
   "cell_type": "code",
   "execution_count": 50,
   "metadata": {
    "id": "_D54JBsAzf3J"
   },
   "outputs": [
    {
     "name": "stdout",
     "output_type": "stream",
     "text": [
      "8.0\n"
     ]
    }
   ],
   "source": [
    "import math\n",
    "\n",
    "a=math.sqrt(64)\n",
    "print(a)"
   ]
  },
  {
   "cell_type": "markdown",
   "metadata": {
    "id": "JAHTD4hHzf3J"
   },
   "source": [
    "### Modules"
   ]
  },
  {
   "cell_type": "markdown",
   "metadata": {
    "id": "uGuFMK04zf3J"
   },
   "source": [
    "Python has a way to put functions in a file and use them upon importing them. Such a file is called a module; definitions from a module can be imported into other modules or into the main script.\n",
    "\n",
    "A module is a file containing Python definitions and statements. The file name is the module name with the suffix .py appended. Within a module, the module’s name (as a string) is available as the value of the global variable __name__.\n",
    "\n",
    "For instance, let's create a file named fibo.py in the current directory with the following contents:\n",
    "# Fibonacci numbers module\n",
    "\n",
    "def fib(n):    # write Fibonacci series up to n\n",
    "    a, b = 0, 1\n",
    "    while a < n:\n",
    "        print(a, end=' ')\n",
    "        a, b = b, a+b\n",
    "    print()\n",
    "\n",
    "def fib2(n):   # return Fibonacci series up to n\n",
    "    result = []\n",
    "    a, b = 0, 1\n",
    "    while a < n:\n",
    "        result.append(a)\n",
    "        a, b = b, a+b\n",
    "    return result\n",
    "\n",
    "Now you may import all functions in the module by typing:"
   ]
  },
  {
   "cell_type": "code",
   "execution_count": 54,
   "metadata": {
    "id": "WQj8GpGNzf3J"
   },
   "outputs": [
    {
     "name": "stdout",
     "output_type": "stream",
     "text": [
      "0 1 1 2 3 5 8 13 21 34 55 89 144 233 377 610 987 "
     ]
    },
    {
     "data": {
      "text/plain": [
       "[0, 1, 1, 2, 3, 5, 8, 13, 21, 34, 55, 89]"
      ]
     },
     "execution_count": 54,
     "metadata": {},
     "output_type": "execute_result"
    }
   ],
   "source": [
    "import fibo\n",
    "fibo.fib(1000)\n",
    "fibo.fib2(100)"
   ]
  },
  {
   "cell_type": "markdown",
   "metadata": {
    "id": "eEvRFuU1zf3J"
   },
   "source": [
    "You may also import only some of the functions and/or rename the module upon importing it"
   ]
  },
  {
   "cell_type": "code",
   "execution_count": 55,
   "metadata": {
    "id": "b5706K28zf3J"
   },
   "outputs": [
    {
     "name": "stdout",
     "output_type": "stream",
     "text": [
      "0 1 1 2 3 5 8 13 21 34 55 89 144 233 377 "
     ]
    }
   ],
   "source": [
    "from fibo import fib2\n",
    "fibo.fib2(100)\n",
    "\n",
    "from fibo import fib as fibonacci\n",
    "fibonacci(500)"
   ]
  },
  {
   "cell_type": "markdown",
   "metadata": {
    "id": "QYZtus2Ozf3J"
   },
   "source": [
    "### Package"
   ]
  },
  {
   "cell_type": "markdown",
   "metadata": {
    "id": "Y06zNvDszf3J"
   },
   "source": [
    "The package is a simple directory having collections of modules. This directory contains Python modules and also having __init__.py file by which the interpreter interprets it as a Package. The package is simply a namespace. The package also contains sub-packages inside it."
   ]
  },
  {
   "cell_type": "markdown",
   "metadata": {
    "id": "XL47cJU9zf3J"
   },
   "source": [
    "Credits: Jennifer Widom, Daniele Pannone, https://www.mygreatlearning.com/blog/understanding-mutable-and-immutable-in-python/, https://freecontent.manning.com/mutable-and-immutable-objects/, https://docs.python.org/3/tutorial/modules.html, https://www.w3schools.com/python/python_lists_comprehension.asp"
   ]
  }
 ],
 "metadata": {
  "colab": {
   "provenance": []
  },
  "kernelspec": {
   "display_name": "Python 3 (ipykernel)",
   "language": "python",
   "name": "python3"
  },
  "language_info": {
   "codemirror_mode": {
    "name": "ipython",
    "version": 3
   },
   "file_extension": ".py",
   "mimetype": "text/x-python",
   "name": "python",
   "nbconvert_exporter": "python",
   "pygments_lexer": "ipython3",
   "version": "3.12.4"
  }
 },
 "nbformat": 4,
 "nbformat_minor": 4
}
