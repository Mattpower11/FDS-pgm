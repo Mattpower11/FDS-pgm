{
  "nbformat": 4,
  "nbformat_minor": 0,
  "metadata": {
    "colab": {
      "provenance": []
    },
    "kernelspec": {
      "name": "python3",
      "display_name": "Python 3"
    },
    "language_info": {
      "name": "python"
    }
  },
  "cells": [
    {
      "cell_type": "markdown",
      "source": [
        "## Our Data"
      ],
      "metadata": {
        "id": "OPlWuDqDHyxQ"
      }
    },
    {
      "cell_type": "markdown",
      "source": [
        "\n",
        "```python\n",
        "temperatures = [15.5, 14.8, 16.1, 15.9, 14.3, 15.0, 16.4]\n",
        "rainfall = [2.3, 0.0, 0.0, 0.5, 1.2, 0.0, 0.8]\n",
        "wind_speeds = [12.5, 10.0, 9.2, 8.5, 11.0, 12.0, 13.5]\n"
      ],
      "metadata": {
        "id": "DS3jYMdSH4zK"
      }
    },
    {
      "cell_type": "markdown",
      "source": [
        "## Part 1: Aggregates and Boolean Indexing\n",
        "\n",
        "\n",
        "1. Count how many days had temperatures above 15°C by using a condition with \"***np.sum()***\" to count temps_array > 15.\n",
        "\n",
        "2. Find out on which days there was rain and wind speed greater than 10 km/h using boolean indexing with \"***np.where()***\" and a logical condition.\n",
        "\n",
        "3. Identify the days where the temperature was between 15°C and 16°C, and display the corresponding wind speeds for those days using ***np.where()*** and boolean indexing."
      ],
      "metadata": {
        "id": "kr4DxWM-Hjzt"
      }
    },
    {
      "cell_type": "code",
      "source": [],
      "metadata": {
        "id": "rScHwsreHsfL"
      },
      "execution_count": null,
      "outputs": []
    },
    {
      "cell_type": "markdown",
      "source": [
        "##Part 4: Extra Challenge (Optional)\n",
        "\n",
        "Write a NumPy function that normalizes all arrays (temperature, rainfall, and wind speed) to a range of 0 to 1 using the formula:\n",
        "\n",
        "$$\n",
        "\\text{normalized\\_array} = \\frac{\\text{array} - \\text{array.min()}}{\\text{array.max()} - \\text{array.min()}}\n",
        "$$\n",
        "\n",
        "Make sure to use \"***np.min()***\" and ***np.max()*** in your function."
      ],
      "metadata": {
        "id": "kDLCL6aQIBCK"
      }
    },
    {
      "cell_type": "code",
      "source": [],
      "metadata": {
        "id": "mOPGrdi9IARp"
      },
      "execution_count": null,
      "outputs": []
    }
  ]
}